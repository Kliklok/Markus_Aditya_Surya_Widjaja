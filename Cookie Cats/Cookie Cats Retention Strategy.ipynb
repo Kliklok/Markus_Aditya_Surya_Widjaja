{
 "cells": [
  {
   "cell_type": "markdown",
   "metadata": {},
   "source": [
    "# Cookie Cats Retention Strategy"
   ]
  },
  {
   "cell_type": "markdown",
   "metadata": {},
   "source": [
    "## Packages and setup"
   ]
  },
  {
   "cell_type": "code",
   "execution_count": null,
   "metadata": {},
   "outputs": [],
   "source": [
    "import numpy as np\n",
    "import pandas as pd \n",
    "import seaborn as sns\n",
    "import matplotlib.pyplot as plt\n",
    "import os\n",
    "\n",
    "from scipy.stats import shapiro\n",
    "import scipy.stats as stats\n",
    "\n",
    "#parameter settings\n",
    "from IPython.core.interactiveshell import InteractiveShell\n",
    "InteractiveShell.ast_node_interactivity = \"all\"\n",
    "import warnings\n",
    "warnings.filterwarnings(\"ignore\")\n",
    "warnings.simplefilter(action='ignore', category=FutureWarning)"
   ]
  },
  {
   "cell_type": "markdown",
   "metadata": {},
   "source": [
    "### Reading data and initial processing"
   ]
  },
  {
   "cell_type": "code",
   "execution_count": 2,
   "metadata": {},
   "outputs": [
    {
     "name": "stdout",
     "output_type": "stream",
     "text": [
      "Data types for the data set:\n"
     ]
    },
    {
     "data": {
      "text/plain": [
       "userid             int64\n",
       "version           object\n",
       "sum_gamerounds     int64\n",
       "retention_1         bool\n",
       "retention_7         bool\n",
       "dtype: object"
      ]
     },
     "execution_count": 2,
     "metadata": {},
     "output_type": "execute_result"
    },
    {
     "name": "stdout",
     "output_type": "stream",
     "text": [
      "Shape of the data i.e. no. of rows and columns\n"
     ]
    },
    {
     "data": {
      "text/plain": [
       "(90189, 5)"
      ]
     },
     "execution_count": 2,
     "metadata": {},
     "output_type": "execute_result"
    },
    {
     "name": "stdout",
     "output_type": "stream",
     "text": [
      "First 5 rows of the raw data:\n"
     ]
    },
    {
     "data": {
      "text/html": [
       "<div>\n",
       "<style scoped>\n",
       "    .dataframe tbody tr th:only-of-type {\n",
       "        vertical-align: middle;\n",
       "    }\n",
       "\n",
       "    .dataframe tbody tr th {\n",
       "        vertical-align: top;\n",
       "    }\n",
       "\n",
       "    .dataframe thead th {\n",
       "        text-align: right;\n",
       "    }\n",
       "</style>\n",
       "<table border=\"1\" class=\"dataframe\">\n",
       "  <thead>\n",
       "    <tr style=\"text-align: right;\">\n",
       "      <th></th>\n",
       "      <th>userid</th>\n",
       "      <th>version</th>\n",
       "      <th>sum_gamerounds</th>\n",
       "      <th>retention_1</th>\n",
       "      <th>retention_7</th>\n",
       "    </tr>\n",
       "  </thead>\n",
       "  <tbody>\n",
       "    <tr>\n",
       "      <th>0</th>\n",
       "      <td>116</td>\n",
       "      <td>gate_30</td>\n",
       "      <td>3</td>\n",
       "      <td>False</td>\n",
       "      <td>False</td>\n",
       "    </tr>\n",
       "    <tr>\n",
       "      <th>1</th>\n",
       "      <td>337</td>\n",
       "      <td>gate_30</td>\n",
       "      <td>38</td>\n",
       "      <td>True</td>\n",
       "      <td>False</td>\n",
       "    </tr>\n",
       "    <tr>\n",
       "      <th>2</th>\n",
       "      <td>377</td>\n",
       "      <td>gate_40</td>\n",
       "      <td>165</td>\n",
       "      <td>True</td>\n",
       "      <td>False</td>\n",
       "    </tr>\n",
       "    <tr>\n",
       "      <th>3</th>\n",
       "      <td>483</td>\n",
       "      <td>gate_40</td>\n",
       "      <td>1</td>\n",
       "      <td>False</td>\n",
       "      <td>False</td>\n",
       "    </tr>\n",
       "    <tr>\n",
       "      <th>4</th>\n",
       "      <td>488</td>\n",
       "      <td>gate_40</td>\n",
       "      <td>179</td>\n",
       "      <td>True</td>\n",
       "      <td>True</td>\n",
       "    </tr>\n",
       "  </tbody>\n",
       "</table>\n",
       "</div>"
      ],
      "text/plain": [
       "   userid  version  sum_gamerounds  retention_1  retention_7\n",
       "0     116  gate_30               3        False        False\n",
       "1     337  gate_30              38         True        False\n",
       "2     377  gate_40             165         True        False\n",
       "3     483  gate_40               1        False        False\n",
       "4     488  gate_40             179         True         True"
      ]
     },
     "execution_count": 2,
     "metadata": {},
     "output_type": "execute_result"
    }
   ],
   "source": [
    "#Read data using pandas\n",
    "user_df=pd.read_csv(\"Data.csv\")\n",
    "\n",
    "#Check data types of each column using \"dtypes\" function\n",
    "print(\"Data types for the data set:\")\n",
    "user_df.dtypes\n",
    "\n",
    "#Check dimension of data i.e. # of rows and #column using pandas \"shape\" funtion\n",
    "print(\"Shape of the data i.e. no. of rows and columns\")\n",
    "user_df.shape\n",
    "\n",
    "#display first 5 rows of the data using \"head\" function\n",
    "print(\"First 5 rows of the raw data:\")\n",
    "user_df.head(5)"
   ]
  },
  {
   "cell_type": "markdown",
   "metadata": {},
   "source": [
    "## Detect and resolve problems in the data (Missing value, Outliers, etc.)"
   ]
  },
  {
   "cell_type": "markdown",
   "metadata": {},
   "source": [
    "### Identify missing value"
   ]
  },
  {
   "cell_type": "code",
   "execution_count": 3,
   "metadata": {},
   "outputs": [
    {
     "data": {
      "text/plain": [
       "userid            0\n",
       "version           0\n",
       "sum_gamerounds    0\n",
       "retention_1       0\n",
       "retention_7       0\n",
       "dtype: int64"
      ]
     },
     "execution_count": 3,
     "metadata": {},
     "output_type": "execute_result"
    }
   ],
   "source": [
    "#Check for any missing values in the data using isnull() function\n",
    "pd.isnull(user_df).sum()\n"
   ]
  },
  {
   "cell_type": "code",
   "execution_count": 4,
   "metadata": {},
   "outputs": [
    {
     "data": {
      "text/plain": [
       "userid            0\n",
       "version           0\n",
       "sum_gamerounds    0\n",
       "retention_1       0\n",
       "retention_7       0\n",
       "dtype: int64"
      ]
     },
     "execution_count": 4,
     "metadata": {},
     "output_type": "execute_result"
    }
   ],
   "source": [
    "pd.isna(user_df).sum()"
   ]
  },
  {
   "cell_type": "markdown",
   "metadata": {},
   "source": [
    "### Identify outliers"
   ]
  },
  {
   "cell_type": "code",
   "execution_count": 5,
   "metadata": {},
   "outputs": [
    {
     "data": {
      "text/plain": [
       "Text(0.5, 1.0, 'Total gamerounds played')"
      ]
     },
     "execution_count": 5,
     "metadata": {},
     "output_type": "execute_result"
    },
    {
     "data": {
      "text/plain": [
       "Text(0.5, 0, 'Index')"
      ]
     },
     "execution_count": 5,
     "metadata": {},
     "output_type": "execute_result"
    },
    {
     "data": {
      "text/plain": [
       "Text(0, 0.5, 'sum_gamerounds')"
      ]
     },
     "execution_count": 5,
     "metadata": {},
     "output_type": "execute_result"
    },
    {
     "data": {
      "text/plain": [
       "[<matplotlib.lines.Line2D at 0x229e9804a30>]"
      ]
     },
     "execution_count": 5,
     "metadata": {},
     "output_type": "execute_result"
    },
    {
     "data": {
      "image/png": "[encoded data removed]",
      "text/plain": [
       "<Figure size 432x288 with 1 Axes>"
      ]
     },
     "metadata": {
      "needs_background": "light"
     },
     "output_type": "display_data"
    }
   ],
   "source": [
    "#Check for outlier values in sum_gamerounds column\n",
    "plt.title(\"Total gamerounds played\")\n",
    "plt.xlabel(\"Index\")\n",
    "plt.ylabel(\"sum_gamerounds\")\n",
    "plt.plot(user_df.sum_gamerounds)"
   ]
  },
  {
   "cell_type": "code",
   "execution_count": 6,
   "metadata": {},
   "outputs": [
    {
     "data": {
      "text/plain": [
       "userid            6390605\n",
       "version           gate_30\n",
       "sum_gamerounds      49854\n",
       "retention_1         False\n",
       "retention_7          True\n",
       "Name: 57702, dtype: object"
      ]
     },
     "execution_count": 6,
     "metadata": {},
     "output_type": "execute_result"
    }
   ],
   "source": [
    "#Based on the plot, filter out the outlier from sum_gamerounds played; Use max() fucntion to find the index of the outlier\n",
    "user_df.loc[user_df['sum_gamerounds'].idxmax()]\n"
   ]
  },
  {
   "cell_type": "code",
   "execution_count": 7,
   "metadata": {},
   "outputs": [
    {
     "data": {
      "text/plain": [
       "Text(0.5, 1.0, 'Total gamerounds played')"
      ]
     },
     "execution_count": 7,
     "metadata": {},
     "output_type": "execute_result"
    },
    {
     "data": {
      "text/plain": [
       "Text(0.5, 0, 'Index')"
      ]
     },
     "execution_count": 7,
     "metadata": {},
     "output_type": "execute_result"
    },
    {
     "data": {
      "text/plain": [
       "Text(0, 0.5, 'sum_gamerounds')"
      ]
     },
     "execution_count": 7,
     "metadata": {},
     "output_type": "execute_result"
    },
    {
     "data": {
      "text/plain": [
       "[<matplotlib.lines.Line2D at 0x229e9d7ad00>]"
      ]
     },
     "execution_count": 7,
     "metadata": {},
     "output_type": "execute_result"
    },
    {
     "data": {
      "image/png": "[encoded data removed]",
      "text/plain": [
       "<Figure size 432x288 with 1 Axes>"
      ]
     },
     "metadata": {
      "needs_background": "light"
     },
     "output_type": "display_data"
    }
   ],
   "source": [
    "#Plot the graph for sum_gamerounds player after removing the outlier\n",
    "\n",
    "df=user_df.drop([57702])\n",
    "\n",
    "plt.title(\"Total gamerounds played\")\n",
    "plt.xlabel(\"Index\")\n",
    "plt.ylabel(\"sum_gamerounds\")\n",
    "plt.plot(df.sum_gamerounds)"
   ]
  },
  {
   "cell_type": "code",
   "execution_count": 8,
   "metadata": {},
   "outputs": [
    {
     "data": {
      "text/html": [
       "<div>\n",
       "<style scoped>\n",
       "    .dataframe tbody tr th:only-of-type {\n",
       "        vertical-align: middle;\n",
       "    }\n",
       "\n",
       "    .dataframe tbody tr th {\n",
       "        vertical-align: top;\n",
       "    }\n",
       "\n",
       "    .dataframe thead th {\n",
       "        text-align: right;\n",
       "    }\n",
       "</style>\n",
       "<table border=\"1\" class=\"dataframe\">\n",
       "  <thead>\n",
       "    <tr style=\"text-align: right;\">\n",
       "      <th></th>\n",
       "      <th>userid</th>\n",
       "      <th>version</th>\n",
       "      <th>sum_gamerounds</th>\n",
       "      <th>retention_1</th>\n",
       "      <th>retention_7</th>\n",
       "    </tr>\n",
       "  </thead>\n",
       "  <tbody>\n",
       "    <tr>\n",
       "      <th>0</th>\n",
       "      <td>116</td>\n",
       "      <td>gate_30</td>\n",
       "      <td>3</td>\n",
       "      <td>False</td>\n",
       "      <td>False</td>\n",
       "    </tr>\n",
       "    <tr>\n",
       "      <th>1</th>\n",
       "      <td>337</td>\n",
       "      <td>gate_30</td>\n",
       "      <td>38</td>\n",
       "      <td>True</td>\n",
       "      <td>False</td>\n",
       "    </tr>\n",
       "    <tr>\n",
       "      <th>2</th>\n",
       "      <td>377</td>\n",
       "      <td>gate_40</td>\n",
       "      <td>165</td>\n",
       "      <td>True</td>\n",
       "      <td>False</td>\n",
       "    </tr>\n",
       "    <tr>\n",
       "      <th>3</th>\n",
       "      <td>483</td>\n",
       "      <td>gate_40</td>\n",
       "      <td>1</td>\n",
       "      <td>False</td>\n",
       "      <td>False</td>\n",
       "    </tr>\n",
       "    <tr>\n",
       "      <th>4</th>\n",
       "      <td>488</td>\n",
       "      <td>gate_40</td>\n",
       "      <td>179</td>\n",
       "      <td>True</td>\n",
       "      <td>True</td>\n",
       "    </tr>\n",
       "    <tr>\n",
       "      <th>...</th>\n",
       "      <td>...</td>\n",
       "      <td>...</td>\n",
       "      <td>...</td>\n",
       "      <td>...</td>\n",
       "      <td>...</td>\n",
       "    </tr>\n",
       "    <tr>\n",
       "      <th>90184</th>\n",
       "      <td>9999441</td>\n",
       "      <td>gate_40</td>\n",
       "      <td>97</td>\n",
       "      <td>True</td>\n",
       "      <td>False</td>\n",
       "    </tr>\n",
       "    <tr>\n",
       "      <th>90185</th>\n",
       "      <td>9999479</td>\n",
       "      <td>gate_40</td>\n",
       "      <td>30</td>\n",
       "      <td>False</td>\n",
       "      <td>False</td>\n",
       "    </tr>\n",
       "    <tr>\n",
       "      <th>90186</th>\n",
       "      <td>9999710</td>\n",
       "      <td>gate_30</td>\n",
       "      <td>28</td>\n",
       "      <td>True</td>\n",
       "      <td>False</td>\n",
       "    </tr>\n",
       "    <tr>\n",
       "      <th>90187</th>\n",
       "      <td>9999768</td>\n",
       "      <td>gate_40</td>\n",
       "      <td>51</td>\n",
       "      <td>True</td>\n",
       "      <td>False</td>\n",
       "    </tr>\n",
       "    <tr>\n",
       "      <th>90188</th>\n",
       "      <td>9999861</td>\n",
       "      <td>gate_40</td>\n",
       "      <td>16</td>\n",
       "      <td>False</td>\n",
       "      <td>False</td>\n",
       "    </tr>\n",
       "  </tbody>\n",
       "</table>\n",
       "<p>90188 rows × 5 columns</p>\n",
       "</div>"
      ],
      "text/plain": [
       "        userid  version  sum_gamerounds  retention_1  retention_7\n",
       "0          116  gate_30               3        False        False\n",
       "1          337  gate_30              38         True        False\n",
       "2          377  gate_40             165         True        False\n",
       "3          483  gate_40               1        False        False\n",
       "4          488  gate_40             179         True         True\n",
       "...        ...      ...             ...          ...          ...\n",
       "90184  9999441  gate_40              97         True        False\n",
       "90185  9999479  gate_40              30        False        False\n",
       "90186  9999710  gate_30              28         True        False\n",
       "90187  9999768  gate_40              51         True        False\n",
       "90188  9999861  gate_40              16        False        False\n",
       "\n",
       "[90188 rows x 5 columns]"
      ]
     },
     "execution_count": 8,
     "metadata": {},
     "output_type": "execute_result"
    }
   ],
   "source": [
    "df"
   ]
  },
  {
   "cell_type": "code",
   "execution_count": 9,
   "metadata": {},
   "outputs": [
    {
     "data": {
      "text/html": [
       "<div>\n",
       "<style scoped>\n",
       "    .dataframe tbody tr th:only-of-type {\n",
       "        vertical-align: middle;\n",
       "    }\n",
       "\n",
       "    .dataframe tbody tr th {\n",
       "        vertical-align: top;\n",
       "    }\n",
       "\n",
       "    .dataframe thead th {\n",
       "        text-align: right;\n",
       "    }\n",
       "</style>\n",
       "<table border=\"1\" class=\"dataframe\">\n",
       "  <thead>\n",
       "    <tr style=\"text-align: right;\">\n",
       "      <th></th>\n",
       "      <th>userid</th>\n",
       "      <th>version</th>\n",
       "      <th>sum_gamerounds</th>\n",
       "      <th>retention_1</th>\n",
       "      <th>retention_7</th>\n",
       "    </tr>\n",
       "  </thead>\n",
       "  <tbody>\n",
       "    <tr>\n",
       "      <th>4</th>\n",
       "      <td>488</td>\n",
       "      <td>gate_40</td>\n",
       "      <td>179</td>\n",
       "      <td>True</td>\n",
       "      <td>True</td>\n",
       "    </tr>\n",
       "    <tr>\n",
       "      <th>5</th>\n",
       "      <td>540</td>\n",
       "      <td>gate_40</td>\n",
       "      <td>187</td>\n",
       "      <td>True</td>\n",
       "      <td>True</td>\n",
       "    </tr>\n",
       "    <tr>\n",
       "      <th>8</th>\n",
       "      <td>1574</td>\n",
       "      <td>gate_40</td>\n",
       "      <td>108</td>\n",
       "      <td>True</td>\n",
       "      <td>True</td>\n",
       "    </tr>\n",
       "    <tr>\n",
       "      <th>10</th>\n",
       "      <td>1842</td>\n",
       "      <td>gate_40</td>\n",
       "      <td>3</td>\n",
       "      <td>False</td>\n",
       "      <td>True</td>\n",
       "    </tr>\n",
       "    <tr>\n",
       "      <th>14</th>\n",
       "      <td>2218</td>\n",
       "      <td>gate_30</td>\n",
       "      <td>305</td>\n",
       "      <td>True</td>\n",
       "      <td>True</td>\n",
       "    </tr>\n",
       "    <tr>\n",
       "      <th>...</th>\n",
       "      <td>...</td>\n",
       "      <td>...</td>\n",
       "      <td>...</td>\n",
       "      <td>...</td>\n",
       "      <td>...</td>\n",
       "    </tr>\n",
       "    <tr>\n",
       "      <th>90134</th>\n",
       "      <td>9991949</td>\n",
       "      <td>gate_30</td>\n",
       "      <td>191</td>\n",
       "      <td>True</td>\n",
       "      <td>True</td>\n",
       "    </tr>\n",
       "    <tr>\n",
       "      <th>90150</th>\n",
       "      <td>9995412</td>\n",
       "      <td>gate_40</td>\n",
       "      <td>253</td>\n",
       "      <td>True</td>\n",
       "      <td>True</td>\n",
       "    </tr>\n",
       "    <tr>\n",
       "      <th>90156</th>\n",
       "      <td>9996093</td>\n",
       "      <td>gate_40</td>\n",
       "      <td>23</td>\n",
       "      <td>False</td>\n",
       "      <td>True</td>\n",
       "    </tr>\n",
       "    <tr>\n",
       "      <th>90163</th>\n",
       "      <td>9996688</td>\n",
       "      <td>gate_30</td>\n",
       "      <td>83</td>\n",
       "      <td>True</td>\n",
       "      <td>True</td>\n",
       "    </tr>\n",
       "    <tr>\n",
       "      <th>90165</th>\n",
       "      <td>9996935</td>\n",
       "      <td>gate_30</td>\n",
       "      <td>35</td>\n",
       "      <td>False</td>\n",
       "      <td>True</td>\n",
       "    </tr>\n",
       "  </tbody>\n",
       "</table>\n",
       "<p>16780 rows × 5 columns</p>\n",
       "</div>"
      ],
      "text/plain": [
       "        userid  version  sum_gamerounds  retention_1  retention_7\n",
       "4          488  gate_40             179         True         True\n",
       "5          540  gate_40             187         True         True\n",
       "8         1574  gate_40             108         True         True\n",
       "10        1842  gate_40               3        False         True\n",
       "14        2218  gate_30             305         True         True\n",
       "...        ...      ...             ...          ...          ...\n",
       "90134  9991949  gate_30             191         True         True\n",
       "90150  9995412  gate_40             253         True         True\n",
       "90156  9996093  gate_40              23        False         True\n",
       "90163  9996688  gate_30              83         True         True\n",
       "90165  9996935  gate_30              35        False         True\n",
       "\n",
       "[16780 rows x 5 columns]"
      ]
     },
     "execution_count": 9,
     "metadata": {},
     "output_type": "execute_result"
    }
   ],
   "source": [
    "df3=df[df['retention_7'] == True]\n",
    "df3"
   ]
  },
  {
   "cell_type": "code",
   "execution_count": 10,
   "metadata": {},
   "outputs": [
    {
     "data": {
      "text/plain": [
       "90188"
      ]
     },
     "execution_count": 10,
     "metadata": {},
     "output_type": "execute_result"
    },
    {
     "data": {
      "text/plain": [
       "userid             871500\n",
       "version           gate_30\n",
       "sum_gamerounds       2961\n",
       "retention_1          True\n",
       "retention_7          True\n",
       "Name: 7912, dtype: object"
      ]
     },
     "execution_count": 10,
     "metadata": {},
     "output_type": "execute_result"
    }
   ],
   "source": [
    "len(df)\n",
    "df.loc[df['sum_gamerounds'].idxmax()]"
   ]
  },
  {
   "cell_type": "markdown",
   "metadata": {},
   "source": [
    "## Plot summary statistics and identify trends to answer basis business questions"
   ]
  },
  {
   "cell_type": "markdown",
   "metadata": {},
   "source": [
    "### What is the overall 7-day retention rate of the game?"
   ]
  },
  {
   "cell_type": "code",
   "execution_count": 11,
   "metadata": {},
   "outputs": [
    {
     "name": "stdout",
     "output_type": "stream",
     "text": [
      "Overal 7 days retention rate of the game for both versions is:  18.61 %\n",
      "Overal 7 days retention rate of the game for both versions is:  18.61 %\n"
     ]
    }
   ],
   "source": [
    "#Insert calculation for 7-day retention rate\n",
    "\n",
    "retention_rate_7= np.count_nonzero(df[\"retention_7\"])/len(df[\"retention_7\"])*100\n",
    "print(\"Overal 7 days retention rate of the game for both versions is: \",\"%.2f\"% retention_rate_7,\"%\")\n",
    "\n",
    "print(\"Overal 7 days retention rate of the game for both versions is: \" ,round(retention_rate_7,2),\"%\")"
   ]
  },
  {
   "cell_type": "markdown",
   "metadata": {},
   "source": [
    "### How many players never played the game after installing? "
   ]
  },
  {
   "cell_type": "code",
   "execution_count": 12,
   "metadata": {},
   "outputs": [
    {
     "name": "stdout",
     "output_type": "stream",
     "text": [
      "No of players that never played the game after installing for both versions is:  3994\n"
     ]
    }
   ],
   "source": [
    "# Find number of customers with sum_gamerounds is equal to zero\n",
    "never_play= len(df[df[\"sum_gamerounds\"]==0])\n",
    "print(\"No of players that never played the game after installing for both versions is: \" ,never_play)"
   ]
  },
  {
   "cell_type": "markdown",
   "metadata": {},
   "source": [
    "### Does the number of users decrease as the level progresses highlighting the difficulty of the game?"
   ]
  },
  {
   "cell_type": "code",
   "execution_count": 13,
   "metadata": {},
   "outputs": [
    {
     "data": {
      "text/plain": [
       "sum_gamerounds       1\n",
       "Count             5538\n",
       "Name: 1, dtype: int64"
      ]
     },
     "execution_count": 13,
     "metadata": {},
     "output_type": "execute_result"
    },
    {
     "data": {
      "text/plain": [
       "Text(0.5, 1.0, 'Count of users against sum_gamerounds')"
      ]
     },
     "execution_count": 13,
     "metadata": {},
     "output_type": "execute_result"
    },
    {
     "data": {
      "text/plain": [
       "Text(0.5, 0, 'sum_gamerounds')"
      ]
     },
     "execution_count": 13,
     "metadata": {},
     "output_type": "execute_result"
    },
    {
     "data": {
      "text/plain": [
       "Text(0, 0.5, 'Count of users')"
      ]
     },
     "execution_count": 13,
     "metadata": {},
     "output_type": "execute_result"
    },
    {
     "data": {
      "text/plain": [
       "(0.0, 200.0, 0.0, 6000.0)"
      ]
     },
     "execution_count": 13,
     "metadata": {},
     "output_type": "execute_result"
    },
    {
     "data": {
      "text/plain": [
       "<BarContainer object of 941 artists>"
      ]
     },
     "execution_count": 13,
     "metadata": {},
     "output_type": "execute_result"
    },
    {
     "data": {
      "image/png": "[encoded data removed]",
      "text/plain": [
       "<Figure size 432x288 with 1 Axes>"
      ]
     },
     "metadata": {
      "needs_background": "light"
     },
     "output_type": "display_data"
    }
   ],
   "source": [
    "#Group by sum_gamerounds and count the number of users for the first 200 gamerounds\n",
    "#Use plot() function on the summarized stats to visualize the chart\n",
    "\n",
    "dfsg = df.groupby(by='sum_gamerounds')[\"userid\"].count().reset_index() #groupby\n",
    "dfsg.rename(columns={'userid':'Count'},inplace=True) #rename column name\n",
    "\n",
    "#find the max count to scale y-axis\n",
    "dfsg.loc[dfsg['Count'].idxmax()]\n",
    "\n",
    "plt.title(\"Count of users against sum_gamerounds\")\n",
    "plt.xlabel(\"sum_gamerounds\")\n",
    "plt.ylabel(\"Count of users\")\n",
    "x=dfsg['sum_gamerounds']\n",
    "y=dfsg['Count']\n",
    "plt.axis([0,200,0,6000])\n",
    "plt.bar(x, y)"
   ]
  },
  {
   "cell_type": "markdown",
   "metadata": {},
   "source": [
    "## Generate crosstab for two groups of players to understand if there is a difference in 7 days retention rate & total number of game rounds played"
   ]
  },
  {
   "cell_type": "markdown",
   "metadata": {},
   "source": [
    "### Seven days retention rate summary for different game versions"
   ]
  },
  {
   "cell_type": "code",
   "execution_count": 14,
   "metadata": {},
   "outputs": [
    {
     "data": {
      "text/html": [
       "<div>\n",
       "<style scoped>\n",
       "    .dataframe tbody tr th:only-of-type {\n",
       "        vertical-align: middle;\n",
       "    }\n",
       "\n",
       "    .dataframe tbody tr th {\n",
       "        vertical-align: top;\n",
       "    }\n",
       "\n",
       "    .dataframe thead th {\n",
       "        text-align: right;\n",
       "    }\n",
       "</style>\n",
       "<table border=\"1\" class=\"dataframe\">\n",
       "  <thead>\n",
       "    <tr style=\"text-align: right;\">\n",
       "      <th>retention_7</th>\n",
       "      <th>False</th>\n",
       "      <th>True</th>\n",
       "    </tr>\n",
       "    <tr>\n",
       "      <th>version</th>\n",
       "      <th></th>\n",
       "      <th></th>\n",
       "    </tr>\n",
       "  </thead>\n",
       "  <tbody>\n",
       "    <tr>\n",
       "      <th>gate_30</th>\n",
       "      <td>0.809799</td>\n",
       "      <td>0.190201</td>\n",
       "    </tr>\n",
       "    <tr>\n",
       "      <th>gate_40</th>\n",
       "      <td>0.818000</td>\n",
       "      <td>0.182000</td>\n",
       "    </tr>\n",
       "  </tbody>\n",
       "</table>\n",
       "</div>"
      ],
      "text/plain": [
       "retention_7     False     True \n",
       "version                        \n",
       "gate_30      0.809799  0.190201\n",
       "gate_40      0.818000  0.182000"
      ]
     },
     "execution_count": 14,
     "metadata": {},
     "output_type": "execute_result"
    }
   ],
   "source": [
    "#Create cross tab for game version and retention_7 flag counting number of users for each possible categories\n",
    "\n",
    "pd.crosstab(user_df.version, user_df.retention_7).apply(lambda r: r/r.sum(), axis=1)\n",
    "\n"
   ]
  },
  {
   "cell_type": "markdown",
   "metadata": {},
   "source": [
    "<mark>__Analsysis Results:__\n",
    "    \n",
    "The 7 days retention rate of both version is similar, with gate_30 retention rate slightly higher. Need to do hypothesis testing H0: gate_40 7 day retention rate >=gate_30\n",
    "    H1: gate_40 7 day retention rate < gate_30"
   ]
  },
  {
   "cell_type": "markdown",
   "metadata": {},
   "source": [
    "### Gamerounds summary for different game versions"
   ]
  },
  {
   "cell_type": "code",
   "execution_count": 15,
   "metadata": {},
   "outputs": [
    {
     "data": {
      "text/html": [
       "<div>\n",
       "<style scoped>\n",
       "    .dataframe tbody tr th:only-of-type {\n",
       "        vertical-align: middle;\n",
       "    }\n",
       "\n",
       "    .dataframe tbody tr th {\n",
       "        vertical-align: top;\n",
       "    }\n",
       "\n",
       "    .dataframe thead th {\n",
       "        text-align: right;\n",
       "    }\n",
       "</style>\n",
       "<table border=\"1\" class=\"dataframe\">\n",
       "  <thead>\n",
       "    <tr style=\"text-align: right;\">\n",
       "      <th></th>\n",
       "      <th>version</th>\n",
       "      <th>sum_gamerounds</th>\n",
       "    </tr>\n",
       "  </thead>\n",
       "  <tbody>\n",
       "    <tr>\n",
       "      <th>0</th>\n",
       "      <td>gate_30</td>\n",
       "      <td>51.342111</td>\n",
       "    </tr>\n",
       "    <tr>\n",
       "      <th>1</th>\n",
       "      <td>gate_40</td>\n",
       "      <td>51.298776</td>\n",
       "    </tr>\n",
       "  </tbody>\n",
       "</table>\n",
       "</div>"
      ],
      "text/plain": [
       "   version  sum_gamerounds\n",
       "0  gate_30       51.342111\n",
       "1  gate_40       51.298776"
      ]
     },
     "execution_count": 15,
     "metadata": {},
     "output_type": "execute_result"
    }
   ],
   "source": [
    "#use pandas group by to calculate average game rounds played summarized by different versions\n",
    "dfv = df.groupby(by='version')[\"sum_gamerounds\"].mean().reset_index()\n",
    "dfv\n"
   ]
  },
  {
   "cell_type": "markdown",
   "metadata": {},
   "source": [
    "<mark>__Analsysis Results:__\n",
    "\n",
    "The average number of game rounds played for each version only slightly differ. gate_30 version has slightly higher gamerounds average"
   ]
  },
  {
   "cell_type": "markdown",
   "metadata": {},
   "source": [
    "## Perform two-sample test for groups A and B to test statistical significance amongst the groups in the sum of game rounds played i.e., if groups A and B are statistically different"
   ]
  },
  {
   "cell_type": "markdown",
   "metadata": {},
   "source": [
    "### Initial data processing"
   ]
  },
  {
   "cell_type": "code",
   "execution_count": 16,
   "metadata": {},
   "outputs": [],
   "source": [
    "#Define A/B groups for hypothesis testing\n",
    "#user_df[\"version\"] = np.where(user_df.version == \"gate_30\", \"A\", \"B\")\n",
    "\n",
    "df[\"version\"] = np.where(df.version == \"gate_30\", \"A\",\"B\")\n",
    "group_A=pd.DataFrame(df[df.version==\"A\"]['sum_gamerounds'])\n",
    "group_B=pd.DataFrame(df[df.version==\"B\"]['sum_gamerounds'])\n",
    "\n",
    "\n"
   ]
  },
  {
   "cell_type": "code",
   "execution_count": 17,
   "metadata": {},
   "outputs": [
    {
     "data": {
      "text/html": [
       "<div>\n",
       "<style scoped>\n",
       "    .dataframe tbody tr th:only-of-type {\n",
       "        vertical-align: middle;\n",
       "    }\n",
       "\n",
       "    .dataframe tbody tr th {\n",
       "        vertical-align: top;\n",
       "    }\n",
       "\n",
       "    .dataframe thead th {\n",
       "        text-align: right;\n",
       "    }\n",
       "</style>\n",
       "<table border=\"1\" class=\"dataframe\">\n",
       "  <thead>\n",
       "    <tr style=\"text-align: right;\">\n",
       "      <th></th>\n",
       "      <th>sum_gamerounds</th>\n",
       "    </tr>\n",
       "  </thead>\n",
       "  <tbody>\n",
       "    <tr>\n",
       "      <th>0</th>\n",
       "      <td>3</td>\n",
       "    </tr>\n",
       "    <tr>\n",
       "      <th>1</th>\n",
       "      <td>38</td>\n",
       "    </tr>\n",
       "    <tr>\n",
       "      <th>6</th>\n",
       "      <td>0</td>\n",
       "    </tr>\n",
       "    <tr>\n",
       "      <th>11</th>\n",
       "      <td>0</td>\n",
       "    </tr>\n",
       "    <tr>\n",
       "      <th>13</th>\n",
       "      <td>39</td>\n",
       "    </tr>\n",
       "    <tr>\n",
       "      <th>...</th>\n",
       "      <td>...</td>\n",
       "    </tr>\n",
       "    <tr>\n",
       "      <th>90179</th>\n",
       "      <td>14</td>\n",
       "    </tr>\n",
       "    <tr>\n",
       "      <th>90180</th>\n",
       "      <td>7</td>\n",
       "    </tr>\n",
       "    <tr>\n",
       "      <th>90182</th>\n",
       "      <td>21</td>\n",
       "    </tr>\n",
       "    <tr>\n",
       "      <th>90183</th>\n",
       "      <td>10</td>\n",
       "    </tr>\n",
       "    <tr>\n",
       "      <th>90186</th>\n",
       "      <td>28</td>\n",
       "    </tr>\n",
       "  </tbody>\n",
       "</table>\n",
       "<p>44699 rows × 1 columns</p>\n",
       "</div>"
      ],
      "text/plain": [
       "       sum_gamerounds\n",
       "0                   3\n",
       "1                  38\n",
       "6                   0\n",
       "11                  0\n",
       "13                 39\n",
       "...               ...\n",
       "90179              14\n",
       "90180               7\n",
       "90182              21\n",
       "90183              10\n",
       "90186              28\n",
       "\n",
       "[44699 rows x 1 columns]"
      ]
     },
     "execution_count": 17,
     "metadata": {},
     "output_type": "execute_result"
    }
   ],
   "source": [
    "group_A"
   ]
  },
  {
   "cell_type": "markdown",
   "metadata": {},
   "source": [
    "### Shapiro test of Normality"
   ]
  },
  {
   "cell_type": "code",
   "execution_count": 18,
   "metadata": {
    "scrolled": false
   },
   "outputs": [
    {
     "data": {
      "text/html": [
       "<div>\n",
       "<style scoped>\n",
       "    .dataframe tbody tr th:only-of-type {\n",
       "        vertical-align: middle;\n",
       "    }\n",
       "\n",
       "    .dataframe tbody tr th {\n",
       "        vertical-align: top;\n",
       "    }\n",
       "\n",
       "    .dataframe thead th {\n",
       "        text-align: right;\n",
       "    }\n",
       "</style>\n",
       "<table border=\"1\" class=\"dataframe\">\n",
       "  <thead>\n",
       "    <tr style=\"text-align: right;\">\n",
       "      <th></th>\n",
       "      <th>sum_gamerounds</th>\n",
       "    </tr>\n",
       "  </thead>\n",
       "  <tbody>\n",
       "    <tr>\n",
       "      <th>count</th>\n",
       "      <td>44699.000000</td>\n",
       "    </tr>\n",
       "    <tr>\n",
       "      <th>mean</th>\n",
       "      <td>51.342111</td>\n",
       "    </tr>\n",
       "    <tr>\n",
       "      <th>std</th>\n",
       "      <td>102.057598</td>\n",
       "    </tr>\n",
       "    <tr>\n",
       "      <th>min</th>\n",
       "      <td>0.000000</td>\n",
       "    </tr>\n",
       "    <tr>\n",
       "      <th>25%</th>\n",
       "      <td>5.000000</td>\n",
       "    </tr>\n",
       "    <tr>\n",
       "      <th>50%</th>\n",
       "      <td>17.000000</td>\n",
       "    </tr>\n",
       "    <tr>\n",
       "      <th>75%</th>\n",
       "      <td>50.000000</td>\n",
       "    </tr>\n",
       "    <tr>\n",
       "      <th>max</th>\n",
       "      <td>2961.000000</td>\n",
       "    </tr>\n",
       "  </tbody>\n",
       "</table>\n",
       "</div>"
      ],
      "text/plain": [
       "       sum_gamerounds\n",
       "count    44699.000000\n",
       "mean        51.342111\n",
       "std        102.057598\n",
       "min          0.000000\n",
       "25%          5.000000\n",
       "50%         17.000000\n",
       "75%         50.000000\n",
       "max       2961.000000"
      ]
     },
     "execution_count": 18,
     "metadata": {},
     "output_type": "execute_result"
    },
    {
     "data": {
      "text/plain": [
       "<AxesSubplot:ylabel='Frequency'>"
      ]
     },
     "execution_count": 18,
     "metadata": {},
     "output_type": "execute_result"
    },
    {
     "data": {
      "text/plain": [
       "Text(0.5, 1.0, 'group_A sum_gamerounds Hist')"
      ]
     },
     "execution_count": 18,
     "metadata": {},
     "output_type": "execute_result"
    },
    {
     "data": {
      "text/plain": [
       "Text(0.5, 0, 'sum_gamerounds')"
      ]
     },
     "execution_count": 18,
     "metadata": {},
     "output_type": "execute_result"
    },
    {
     "data": {
      "text/plain": [
       "Text(0, 0.5, 'No.of user')"
      ]
     },
     "execution_count": 18,
     "metadata": {},
     "output_type": "execute_result"
    },
    {
     "data": {
      "image/png": "[encoded data removed]",
      "text/plain": [
       "<Figure size 432x288 with 1 Axes>"
      ]
     },
     "execution_count": 18,
     "metadata": {},
     "output_type": "execute_result"
    },
    {
     "name": "stdout",
     "output_type": "stream",
     "text": [
      "Statistics=0.489, p=0.000\n",
      "Sample does not look Gaussian (reject H0)\n"
     ]
    },
    {
     "data": {
      "text/html": [
       "<div>\n",
       "<style scoped>\n",
       "    .dataframe tbody tr th:only-of-type {\n",
       "        vertical-align: middle;\n",
       "    }\n",
       "\n",
       "    .dataframe tbody tr th {\n",
       "        vertical-align: top;\n",
       "    }\n",
       "\n",
       "    .dataframe thead th {\n",
       "        text-align: right;\n",
       "    }\n",
       "</style>\n",
       "<table border=\"1\" class=\"dataframe\">\n",
       "  <thead>\n",
       "    <tr style=\"text-align: right;\">\n",
       "      <th></th>\n",
       "      <th>sum_gamerounds</th>\n",
       "    </tr>\n",
       "  </thead>\n",
       "  <tbody>\n",
       "    <tr>\n",
       "      <th>count</th>\n",
       "      <td>45489.000000</td>\n",
       "    </tr>\n",
       "    <tr>\n",
       "      <th>mean</th>\n",
       "      <td>51.298776</td>\n",
       "    </tr>\n",
       "    <tr>\n",
       "      <th>std</th>\n",
       "      <td>103.294416</td>\n",
       "    </tr>\n",
       "    <tr>\n",
       "      <th>min</th>\n",
       "      <td>0.000000</td>\n",
       "    </tr>\n",
       "    <tr>\n",
       "      <th>25%</th>\n",
       "      <td>5.000000</td>\n",
       "    </tr>\n",
       "    <tr>\n",
       "      <th>50%</th>\n",
       "      <td>16.000000</td>\n",
       "    </tr>\n",
       "    <tr>\n",
       "      <th>75%</th>\n",
       "      <td>52.000000</td>\n",
       "    </tr>\n",
       "    <tr>\n",
       "      <th>max</th>\n",
       "      <td>2640.000000</td>\n",
       "    </tr>\n",
       "  </tbody>\n",
       "</table>\n",
       "</div>"
      ],
      "text/plain": [
       "       sum_gamerounds\n",
       "count    45489.000000\n",
       "mean        51.298776\n",
       "std        103.294416\n",
       "min          0.000000\n",
       "25%          5.000000\n",
       "50%         16.000000\n",
       "75%         52.000000\n",
       "max       2640.000000"
      ]
     },
     "execution_count": 18,
     "metadata": {},
     "output_type": "execute_result"
    },
    {
     "data": {
      "text/plain": [
       "<AxesSubplot:ylabel='Frequency'>"
      ]
     },
     "execution_count": 18,
     "metadata": {},
     "output_type": "execute_result"
    },
    {
     "data": {
      "text/plain": [
       "Text(0.5, 1.0, 'group_B sum_gamerounds Hist')"
      ]
     },
     "execution_count": 18,
     "metadata": {},
     "output_type": "execute_result"
    },
    {
     "data": {
      "text/plain": [
       "Text(0.5, 0, 'sum_gamerounds')"
      ]
     },
     "execution_count": 18,
     "metadata": {},
     "output_type": "execute_result"
    },
    {
     "data": {
      "text/plain": [
       "Text(0, 0.5, 'No.of user')"
      ]
     },
     "execution_count": 18,
     "metadata": {},
     "output_type": "execute_result"
    },
    {
     "data": {
      "image/png": "[encoded data removed]",
      "text/plain": [
       "<Figure size 432x288 with 1 Axes>"
      ]
     },
     "execution_count": 18,
     "metadata": {},
     "output_type": "execute_result"
    },
    {
     "name": "stdout",
     "output_type": "stream",
     "text": [
      "Statistics=0.483, p=0.000\n",
      "Sample does not look Gaussian (reject H0)\n"
     ]
    },
    {
     "data": {
      "image/png": "[encoded data removed]",
      "text/plain": [
       "<Figure size 432x288 with 1 Axes>"
      ]
     },
     "metadata": {
      "needs_background": "light"
     },
     "output_type": "display_data"
    },
    {
     "data": {
      "image/png": "[encoded data removed]",
      "text/plain": [
       "<Figure size 432x288 with 1 Axes>"
      ]
     },
     "metadata": {
      "needs_background": "light"
     },
     "output_type": "display_data"
    },
    {
     "data": {
      "image/png": "[encoded data removed]",
      "text/plain": [
       "<Figure size 432x288 with 1 Axes>"
      ]
     },
     "metadata": {
      "needs_background": "light"
     },
     "output_type": "display_data"
    },
    {
     "data": {
      "image/png": "[encoded data removed]",
      "text/plain": [
       "<Figure size 432x288 with 1 Axes>"
      ]
     },
     "metadata": {
      "needs_background": "light"
     },
     "output_type": "display_data"
    }
   ],
   "source": [
    "#---------------------- Shapiro Test ----------------------\n",
    "# NULL Hypothesis H0: Distribution is normal\n",
    "# ALTERNATE Hypothesis H1: Distribution is not normal    \n",
    "from statsmodels.graphics.gofplots import qqplot\n",
    "#test for group_A\n",
    "group_A.describe()\n",
    "\n",
    "#plot histogram\n",
    "group_A.plot.hist(grid=True, bins=100, rwidth=0.9, color='#607c8e')\n",
    "plt.title('group_A sum_gamerounds Hist')\n",
    "plt.xlabel('sum_gamerounds')\n",
    "plt.ylabel('No.of user')\n",
    "plt.grid(axis='y', alpha=0.1)\n",
    "\n",
    "#qqplot\n",
    "qqplot(group_A['sum_gamerounds'],line='s', alpha=0.05)\n",
    "\n",
    "#shapiro test\n",
    "stat_A, p_A = shapiro(group_A)\n",
    "print('Statistics=%.3f, p=%.3f' % (stat_A, p_A))\n",
    "#statement\n",
    "alpha = 0.05\n",
    "if p_A > alpha:\n",
    "    print('Sample looks Gaussian (fail to reject H0)')\n",
    "else:\n",
    "    print('Sample does not look Gaussian (reject H0)')\n",
    "\n",
    "\n",
    "#test for group_B\n",
    "group_B.describe()\n",
    "\n",
    "#plot histogram\n",
    "group_B.plot.hist(grid=True, bins=100, rwidth=0.9, color='#607c8e')\n",
    "plt.title('group_B sum_gamerounds Hist')\n",
    "plt.xlabel('sum_gamerounds')\n",
    "plt.ylabel('No.of user')\n",
    "plt.grid(axis='y', alpha=0.1)\n",
    "\n",
    "#qqplot\n",
    "qqplot(group_B['sum_gamerounds'], line='s',alpha=0.05)\n",
    "\n",
    "#shapiro test\n",
    "stat_B, p_B = shapiro(group_B)\n",
    "print('Statistics=%.3f, p=%.3f' % (stat_B, p_B))\n",
    "#statement\n",
    "if p_B > alpha:\n",
    "    print('Sample looks Gaussian (fail to reject H0)')\n",
    "else:\n",
    "    print('Sample does not look Gaussian (reject H0)')\n",
    "\n",
    "\n"
   ]
  },
  {
   "cell_type": "code",
   "execution_count": 47,
   "metadata": {
    "scrolled": false
   },
   "outputs": [
    {
     "data": {
      "text/plain": [
       "<AxesSubplot:ylabel='Frequency'>"
      ]
     },
     "execution_count": 47,
     "metadata": {},
     "output_type": "execute_result"
    },
    {
     "data": {
      "text/plain": [
       "Text(0.5, 1.0, 'group_A sum_gamerounds Hist')"
      ]
     },
     "execution_count": 47,
     "metadata": {},
     "output_type": "execute_result"
    },
    {
     "data": {
      "text/plain": [
       "Text(0.5, 0, 'sum_gamerounds')"
      ]
     },
     "execution_count": 47,
     "metadata": {},
     "output_type": "execute_result"
    },
    {
     "data": {
      "text/plain": [
       "Text(0, 0.5, 'No.of user')"
      ]
     },
     "execution_count": 47,
     "metadata": {},
     "output_type": "execute_result"
    },
    {
     "data": {
      "text/plain": [
       "<AxesSubplot:ylabel='Frequency'>"
      ]
     },
     "execution_count": 47,
     "metadata": {},
     "output_type": "execute_result"
    },
    {
     "data": {
      "text/plain": [
       "Text(0.5, 1.0, 'group_B sum_gamerounds Hist')"
      ]
     },
     "execution_count": 47,
     "metadata": {},
     "output_type": "execute_result"
    },
    {
     "data": {
      "text/plain": [
       "Text(0.5, 0, 'sum_gamerounds')"
      ]
     },
     "execution_count": 47,
     "metadata": {},
     "output_type": "execute_result"
    },
    {
     "data": {
      "text/plain": [
       "Text(0, 0.5, 'No.of user')"
      ]
     },
     "execution_count": 47,
     "metadata": {},
     "output_type": "execute_result"
    },
    {
     "data": {
      "image/png": "[encoded data removed]",
      "text/plain": [
       "<Figure size 1080x720 with 4 Axes>"
      ]
     },
     "execution_count": 47,
     "metadata": {},
     "output_type": "execute_result"
    },
    {
     "data": {
      "image/png": "[encoded data removed]",
      "text/plain": [
       "<Figure size 1080x720 with 4 Axes>"
      ]
     },
     "execution_count": 47,
     "metadata": {},
     "output_type": "execute_result"
    },
    {
     "data": {
      "image/png": "[encoded data removed]",
      "text/plain": [
       "<Figure size 1080x720 with 4 Axes>"
      ]
     },
     "metadata": {
      "needs_background": "light"
     },
     "output_type": "display_data"
    }
   ],
   "source": [
    "fig, ((ax1,ax2),(ax3,ax4)) = plt.subplots(2,2,sharex='none',sharey='none',figsize = (15,10))\n",
    "\n",
    "group_A.plot.hist(grid=True, ax=ax1, bins=100, rwidth=0.9, color='#607c8e')\n",
    "ax1.set_title('group_A sum_gamerounds Hist')\n",
    "ax1.set_xlabel('sum_gamerounds')\n",
    "ax1.set_ylabel('No.of user')\n",
    "ax1.grid(axis='y', alpha=0.1)\n",
    "\n",
    "group_B.plot.hist(grid=True, ax=ax2, bins=100, rwidth=0.9, color='#607c8e')\n",
    "ax2.set_title('group_B sum_gamerounds Hist')\n",
    "ax2.set_xlabel('sum_gamerounds')\n",
    "ax2.set_ylabel('No.of user')\n",
    "ax2.grid(axis='y', alpha=0.1)\n",
    "\n",
    "qqplot(group_A['sum_gamerounds'],line='s', alpha=0.05,ax=ax3)\n",
    "\n",
    "qqplot(group_B['sum_gamerounds'],line='s',alpha=0.05,ax=ax4)\n",
    "\n",
    "\n"
   ]
  },
  {
   "cell_type": "markdown",
   "metadata": {},
   "source": [
    "<mark>__Analsysis Results:__\n",
    "    \n",
    "Both group_A and group_B are NOT normally distributed, based on the histogram, QQ plot and shapiro test"
   ]
  },
  {
   "cell_type": "markdown",
   "metadata": {},
   "source": [
    "### Test of homegienity of variance"
   ]
  },
  {
   "cell_type": "code",
   "execution_count": 21,
   "metadata": {},
   "outputs": [
    {
     "name": "stdout",
     "output_type": "stream",
     "text": [
      "Statistics=0.075, p=0.784\n",
      "Differences in variances is likely to have occured due to random sampling (fail to reject H0)\n"
     ]
    }
   ],
   "source": [
    "#---------------------- Leven's Test ----------------------\n",
    "# NULL Hypothesis H0: Two groups have equal variances\n",
    "# ALTERNATE Hypothesis H1: Two groups do not have equal variances\n",
    "\n",
    "from scipy.stats import levene\n",
    "stat_lev, p_lev = levene(group_A['sum_gamerounds'],group_B['sum_gamerounds'])\n",
    "print('Statistics=%.3f, p=%.3f' % (stat_lev, p_lev))\n",
    "alpha = 0.05\n",
    "if p_lev > alpha:\n",
    "    print('Differences in variances is likely to have occured due to random sampling (fail to reject H0)')\n",
    "else:\n",
    "    print('Differences in variances is not likely to have occured due to random sampling (reject H0)')\n",
    "\n"
   ]
  },
  {
   "cell_type": "markdown",
   "metadata": {},
   "source": [
    "<mark>__Analsysis Results:__\n",
    "       \n",
    "There is NOT enough information to show that the 2 groups have unequal variances. Hence, the two groups are considered to have equal variances."
   ]
  },
  {
   "cell_type": "markdown",
   "metadata": {},
   "source": [
    "### Test of significance: Two sample test"
   ]
  },
  {
   "cell_type": "code",
   "execution_count": 22,
   "metadata": {},
   "outputs": [
    {
     "name": "stdout",
     "output_type": "stream",
     "text": [
      "Statistics=1.952, p=0.051\n",
      "Differences in distribution is likely to have occured due to random sampling (fail to reject H0)\n"
     ]
    }
   ],
   "source": [
    "#---------------------- Two samples test ----------------------\n",
    "# NULL Hypothesis H0: Two samples are equal\n",
    "# ALTERNATE Hypothesis H1: Two samples are different\n",
    "\n",
    "#Try Wilcoxon/Mann-Whitney U test using Ranksum function\n",
    "\n",
    "from scipy.stats import ranksums\n",
    "# by default, ranksums function assumes a two-tailed test \n",
    "stat_rs, p_rs = ranksums(group_A['sum_gamerounds'], group_B['sum_gamerounds'])\n",
    "print('Statistics=%.3f, p=%.3f' % (stat_rs, p_rs))\n",
    "alpha = 0.05\n",
    "if p_rs > alpha:\n",
    "    print('Differences in distribution is likely to have occured due to random sampling (fail to reject H0)')\n",
    "else:\n",
    "    print('Differences in distribution is not likely to have occured due to random sampling (reject H0)')\n",
    "\n"
   ]
  },
  {
   "cell_type": "code",
   "execution_count": 23,
   "metadata": {},
   "outputs": [
    {
     "name": "stdout",
     "output_type": "stream",
     "text": [
      "Statistics=1024285761.500, p=0.051\n",
      "Differences in distribution is likely to have occured due to random sampling (fail to reject H0)\n"
     ]
    }
   ],
   "source": [
    "#---------------------- Two samples test ----------------------\n",
    "# NULL Hypothesis H0: Two samples are equal\n",
    "# ALTERNATE Hypothesis H1: Two samples are different\n",
    "\n",
    "#Try Wilcoxon/Mann-Whitney U test using mannwhitneyu function\n",
    "\n",
    "from scipy.stats import mannwhitneyu\n",
    "# by default, mannwhitneyu function assumes a one-tailed test (unlike what docs.scipy.org states)\n",
    "stat_mwu, p_mwu = mannwhitneyu(group_A['sum_gamerounds'], group_B['sum_gamerounds'], alternative='two-sided')\n",
    "print('Statistics=%.3f, p=%.3f' % (stat_mwu, p_mwu))\n",
    "alpha = 0.05\n",
    "if p_mwu > alpha:\n",
    "    print('Differences in distribution is likely to have occured due to random sampling (fail to reject H0)')\n",
    "else:\n",
    "    print('Differences in distribution is not likely to have occured due to random sampling (reject H0)')\n",
    "\n"
   ]
  },
  {
   "cell_type": "code",
   "execution_count": 24,
   "metadata": {},
   "outputs": [
    {
     "name": "stdout",
     "output_type": "stream",
     "text": [
      "Statistics=1009027049.500, p=0.975\n",
      "Differences in distribution is likely to have occured due to random sampling (fail to reject H0)\n"
     ]
    }
   ],
   "source": [
    "#---------------------- Two samples test ----------------------\n",
    "# NULL Hypothesis H0: Two samples are equal\n",
    "# ALTERNATE Hypothesis H1: group_B (gate_40) is greater than group_A (gate_30)\n",
    "\n",
    "#Apply relevant two sample test to accept or reject the NULL hypothesis\n",
    "#Try Wilcoxon/Mann-Whitney U test using mannwhitneyu function for ONE-TAILED Test (group_B > group_A)\n",
    "\n",
    "from scipy.stats import mannwhitneyu\n",
    "# by default, mannwhitneyu function assumes a one-tailed test (unlike what docs.scipy.org states)\n",
    "stat_mwu, p_mwu = mannwhitneyu(group_B['sum_gamerounds'], group_A['sum_gamerounds'], alternative='greater')\n",
    "print('Statistics=%.3f, p=%.3f' % (stat_mwu, p_mwu))\n",
    "alpha = 0.05\n",
    "if p_mwu > alpha:\n",
    "    print('Differences in distribution is likely to have occured due to random sampling (fail to reject H0)')\n",
    "else:\n",
    "    print('Differences in distribution is not likely to have occured due to random sampling (reject H0)')\n",
    "\n"
   ]
  },
  {
   "cell_type": "code",
   "execution_count": 25,
   "metadata": {},
   "outputs": [
    {
     "name": "stdout",
     "output_type": "stream",
     "text": [
      "Statistics=1024285761.500, p=0.025\n",
      "Differences in distribution is not likely to have occured due to random sampling (reject H0)\n"
     ]
    }
   ],
   "source": [
    "#---------------------- Two samples test ----------------------\n",
    "# NULL Hypothesis H0: Two samples are equal\n",
    "# ALTERNATE Hypothesis H1: group_A (gate_30) is greater than group_B (gate_40)\n",
    "\n",
    "#Apply relevant two sample test to accept or reject the NULL hypothesis\n",
    "#Try Wilcoxon/Mann-Whitney U test using mannwhitneyu function for ONE-TAILED Test (group_A > group_B)\n",
    "\n",
    "from scipy.stats import mannwhitneyu\n",
    "# by default, mannwhitneyu function assumes a one-tailed test (unlike what docs.scipy.org states)\n",
    "stat_mwu, p_mwu = mannwhitneyu(group_A['sum_gamerounds'], group_B['sum_gamerounds'], alternative='greater')\n",
    "print('Statistics=%.3f, p=%.3f' % (stat_mwu, p_mwu))\n",
    "alpha = 0.05\n",
    "if p_mwu > alpha:\n",
    "    print('Differences in distribution is likely to have occured due to random sampling (fail to reject H0)')\n",
    "else:\n",
    "    print('Differences in distribution is not likely to have occured due to random sampling (reject H0)')\n",
    "\n"
   ]
  },
  {
   "cell_type": "markdown",
   "metadata": {},
   "source": [
    "<mark>__Analsysis Results:__\n",
    "       \n",
    "The tests (both one-tailed and two-tailed) shows that there is not enough information to reject the H0 (NULL Hypothesis) and there is no significant evidence that moving the gate from level 30 to 40 improves the retention rate/increases the sum_gamerounds. Hence, the two samples, group_A (gate_30) and group_B (gate_40), can be considered equal.\n",
    "\n",
    "In fact, testing alternative hypothesis (H1) that group_A (gate_30) is greater than group_B (gate_40) shows a p-value of 0.025 which is enough to accept the H1 that the sum_gamerounds in group_A (gate_30) is greater than group_B (gate_40)."
   ]
  },
  {
   "cell_type": "markdown",
   "metadata": {},
   "source": [
    "## Based on significance testing results, if groups A and B are statistically different, which level has more advantage in terms of player retention and number of game rounds played"
   ]
  },
  {
   "cell_type": "code",
   "execution_count": 26,
   "metadata": {},
   "outputs": [
    {
     "data": {
      "text/html": [
       "<div>\n",
       "<style scoped>\n",
       "    .dataframe tbody tr th:only-of-type {\n",
       "        vertical-align: middle;\n",
       "    }\n",
       "\n",
       "    .dataframe tbody tr th {\n",
       "        vertical-align: top;\n",
       "    }\n",
       "\n",
       "    .dataframe thead th {\n",
       "        text-align: right;\n",
       "    }\n",
       "</style>\n",
       "<table border=\"1\" class=\"dataframe\">\n",
       "  <thead>\n",
       "    <tr style=\"text-align: right;\">\n",
       "      <th></th>\n",
       "      <th>retention_1</th>\n",
       "      <th>retention_7</th>\n",
       "    </tr>\n",
       "    <tr>\n",
       "      <th>version</th>\n",
       "      <th></th>\n",
       "      <th></th>\n",
       "    </tr>\n",
       "  </thead>\n",
       "  <tbody>\n",
       "    <tr>\n",
       "      <th>A</th>\n",
       "      <td>20034</td>\n",
       "      <td>8501</td>\n",
       "    </tr>\n",
       "    <tr>\n",
       "      <th>B</th>\n",
       "      <td>20119</td>\n",
       "      <td>8279</td>\n",
       "    </tr>\n",
       "  </tbody>\n",
       "</table>\n",
       "</div>"
      ],
      "text/plain": [
       "         retention_1  retention_7\n",
       "version                          \n",
       "A              20034         8501\n",
       "B              20119         8279"
      ]
     },
     "execution_count": 26,
     "metadata": {},
     "output_type": "execute_result"
    }
   ],
   "source": [
    "dfrth = df.groupby(by='version')[[\"retention_1\",\"retention_7\"]].sum([\"retention_1\"]==\"TRUE\",[\"retention_7\"]==\"TRUE\")\n",
    "dfrth"
   ]
  },
  {
   "cell_type": "code",
   "execution_count": 119,
   "metadata": {},
   "outputs": [
    {
     "data": {
      "text/html": [
       "<div>\n",
       "<style scoped>\n",
       "    .dataframe tbody tr th:only-of-type {\n",
       "        vertical-align: middle;\n",
       "    }\n",
       "\n",
       "    .dataframe tbody tr th {\n",
       "        vertical-align: top;\n",
       "    }\n",
       "\n",
       "    .dataframe thead th {\n",
       "        text-align: right;\n",
       "    }\n",
       "</style>\n",
       "<table border=\"1\" class=\"dataframe\">\n",
       "  <thead>\n",
       "    <tr style=\"text-align: right;\">\n",
       "      <th></th>\n",
       "      <th>retention_1</th>\n",
       "      <th>retention_7</th>\n",
       "    </tr>\n",
       "  </thead>\n",
       "  <tbody>\n",
       "    <tr>\n",
       "      <th>0</th>\n",
       "      <td>20034</td>\n",
       "      <td>8501</td>\n",
       "    </tr>\n",
       "    <tr>\n",
       "      <th>1</th>\n",
       "      <td>20119</td>\n",
       "      <td>8279</td>\n",
       "    </tr>\n",
       "  </tbody>\n",
       "</table>\n",
       "</div>"
      ],
      "text/plain": [
       "   retention_1  retention_7\n",
       "0        20034         8501\n",
       "1        20119         8279"
      ]
     },
     "execution_count": 119,
     "metadata": {},
     "output_type": "execute_result"
    },
    {
     "data": {
      "text/html": [
       "<div>\n",
       "<style scoped>\n",
       "    .dataframe tbody tr th:only-of-type {\n",
       "        vertical-align: middle;\n",
       "    }\n",
       "\n",
       "    .dataframe tbody tr th {\n",
       "        vertical-align: top;\n",
       "    }\n",
       "\n",
       "    .dataframe thead th {\n",
       "        text-align: right;\n",
       "    }\n",
       "</style>\n",
       "<table border=\"1\" class=\"dataframe\">\n",
       "  <thead>\n",
       "    <tr style=\"text-align: right;\">\n",
       "      <th></th>\n",
       "      <th>userid</th>\n",
       "      <th>1</th>\n",
       "    </tr>\n",
       "  </thead>\n",
       "  <tbody>\n",
       "    <tr>\n",
       "      <th>0</th>\n",
       "      <td>44699</td>\n",
       "      <td>44699</td>\n",
       "    </tr>\n",
       "    <tr>\n",
       "      <th>1</th>\n",
       "      <td>45489</td>\n",
       "      <td>45489</td>\n",
       "    </tr>\n",
       "  </tbody>\n",
       "</table>\n",
       "</div>"
      ],
      "text/plain": [
       "   userid      1\n",
       "0   44699  44699\n",
       "1   45489  45489"
      ]
     },
     "execution_count": 119,
     "metadata": {},
     "output_type": "execute_result"
    },
    {
     "data": {
      "text/html": [
       "<div>\n",
       "<style scoped>\n",
       "    .dataframe tbody tr th:only-of-type {\n",
       "        vertical-align: middle;\n",
       "    }\n",
       "\n",
       "    .dataframe tbody tr th {\n",
       "        vertical-align: top;\n",
       "    }\n",
       "\n",
       "    .dataframe thead th {\n",
       "        text-align: right;\n",
       "    }\n",
       "</style>\n",
       "<table border=\"1\" class=\"dataframe\">\n",
       "  <thead>\n",
       "    <tr style=\"text-align: right;\">\n",
       "      <th></th>\n",
       "      <th>retention_1</th>\n",
       "      <th>retention_7</th>\n",
       "    </tr>\n",
       "    <tr>\n",
       "      <th>version</th>\n",
       "      <th></th>\n",
       "      <th></th>\n",
       "    </tr>\n",
       "  </thead>\n",
       "  <tbody>\n",
       "    <tr>\n",
       "      <th>A</th>\n",
       "      <td>20034</td>\n",
       "      <td>8501</td>\n",
       "    </tr>\n",
       "    <tr>\n",
       "      <th>B</th>\n",
       "      <td>20119</td>\n",
       "      <td>8279</td>\n",
       "    </tr>\n",
       "  </tbody>\n",
       "</table>\n",
       "</div>"
      ],
      "text/plain": [
       "         retention_1  retention_7\n",
       "version                          \n",
       "A              20034         8501\n",
       "B              20119         8279"
      ]
     },
     "execution_count": 119,
     "metadata": {},
     "output_type": "execute_result"
    },
    {
     "data": {
      "text/html": [
       "<div>\n",
       "<style scoped>\n",
       "    .dataframe tbody tr th:only-of-type {\n",
       "        vertical-align: middle;\n",
       "    }\n",
       "\n",
       "    .dataframe tbody tr th {\n",
       "        vertical-align: top;\n",
       "    }\n",
       "\n",
       "    .dataframe thead th {\n",
       "        text-align: right;\n",
       "    }\n",
       "</style>\n",
       "<table border=\"1\" class=\"dataframe\">\n",
       "  <thead>\n",
       "    <tr style=\"text-align: right;\">\n",
       "      <th></th>\n",
       "      <th>retention_1</th>\n",
       "      <th>retention_7</th>\n",
       "    </tr>\n",
       "    <tr>\n",
       "      <th>version</th>\n",
       "      <th></th>\n",
       "      <th></th>\n",
       "    </tr>\n",
       "  </thead>\n",
       "  <tbody>\n",
       "    <tr>\n",
       "      <th>A</th>\n",
       "      <td>44699</td>\n",
       "      <td>44699</td>\n",
       "    </tr>\n",
       "    <tr>\n",
       "      <th>B</th>\n",
       "      <td>45489</td>\n",
       "      <td>45489</td>\n",
       "    </tr>\n",
       "  </tbody>\n",
       "</table>\n",
       "</div>"
      ],
      "text/plain": [
       "         retention_1  retention_7\n",
       "version                          \n",
       "A              44699        44699\n",
       "B              45489        45489"
      ]
     },
     "execution_count": 119,
     "metadata": {},
     "output_type": "execute_result"
    },
    {
     "data": {
      "text/html": [
       "<div>\n",
       "<style scoped>\n",
       "    .dataframe tbody tr th:only-of-type {\n",
       "        vertical-align: middle;\n",
       "    }\n",
       "\n",
       "    .dataframe tbody tr th {\n",
       "        vertical-align: top;\n",
       "    }\n",
       "\n",
       "    .dataframe thead th {\n",
       "        text-align: right;\n",
       "    }\n",
       "</style>\n",
       "<table border=\"1\" class=\"dataframe\">\n",
       "  <thead>\n",
       "    <tr style=\"text-align: right;\">\n",
       "      <th></th>\n",
       "      <th>retention_1</th>\n",
       "      <th>retention_7</th>\n",
       "    </tr>\n",
       "    <tr>\n",
       "      <th>version</th>\n",
       "      <th></th>\n",
       "      <th></th>\n",
       "    </tr>\n",
       "  </thead>\n",
       "  <tbody>\n",
       "    <tr>\n",
       "      <th>A</th>\n",
       "      <td>0.448198</td>\n",
       "      <td>0.190183</td>\n",
       "    </tr>\n",
       "    <tr>\n",
       "      <th>B</th>\n",
       "      <td>0.442283</td>\n",
       "      <td>0.182000</td>\n",
       "    </tr>\n",
       "  </tbody>\n",
       "</table>\n",
       "</div>"
      ],
      "text/plain": [
       "         retention_1  retention_7\n",
       "version                          \n",
       "A           0.448198     0.190183\n",
       "B           0.442283     0.182000"
      ]
     },
     "execution_count": 119,
     "metadata": {},
     "output_type": "execute_result"
    }
   ],
   "source": [
    "#this is the roundabout way to get the  percentage\n",
    "dfrt = df.groupby(by='version')[\"userid\",\"retention_1\",\"retention_7\"].agg({\"retention_1\": sum,\"retention_7\":sum, \"userid\":\"count\"})\n",
    "\n",
    "dfc = dfrt.iloc[:,2:3]\n",
    "\n",
    "dfc['1']=dfrt.iloc[:,2:3]\n",
    "dfrtl = dfrt.drop(columns=['userid'])\n",
    "dfrtl.reset_index(drop=True)\n",
    "dfc.reset_index(drop=True)\n",
    "dfc.columns=['retention_1','retention_7']\n",
    "dfrtl.index=dfc.index\n",
    "dfrtl\n",
    "dfc\n",
    "#dfrtp=dfrtl.reset_index(drop=True)/dfc.reset_index(drop=True) \n",
    "dfrtp=dfrtl/dfc\n",
    "\n",
    "dfrtp"
   ]
  },
  {
   "cell_type": "markdown",
   "metadata": {},
   "source": [
    "<mark>__Analsysis Results:__\n",
    "    \n",
    "Looking at the crosstab above, group A has a slightly higher retention_1 and retention_7 rate. \n",
    "which supports the one-tailed significance test results where testing alternative hypothesis (H1) that group_A (gate_30) is greater than group_B (gate_40) shows a p-value of 0.025 which is enough to accept the H1 that the sum_gamerounds in group_A (gate_30) is greater than group_B (gate_40).\n",
    "    \n",
    "Maintaining current status quo with gate at level 30 may be the best option as there is no reason to spend the resources to change the gate level."
   ]
  },
  {
   "cell_type": "markdown",
   "metadata": {},
   "source": [
    "## Using bootstrap resampling, plot the retention rate distribution for both the groups inorder to visualize effect of different version of the game on retention."
   ]
  },
  {
   "cell_type": "code",
   "execution_count": 33,
   "metadata": {},
   "outputs": [],
   "source": [
    "#sample grouping\n",
    "group_A_1=pd.DataFrame(df[df.version==\"A\"]['retention_1'])\n",
    "group_B_1=pd.DataFrame(df[df.version==\"B\"]['retention_1'])\n",
    "group_A_7=pd.DataFrame(df[df.version==\"A\"]['retention_7'])\n",
    "group_B_7=pd.DataFrame(df[df.version==\"B\"]['retention_7'])"
   ]
  },
  {
   "cell_type": "code",
   "execution_count": 84,
   "metadata": {},
   "outputs": [
    {
     "data": {
      "text/html": [
       "<div>\n",
       "<style scoped>\n",
       "    .dataframe tbody tr th:only-of-type {\n",
       "        vertical-align: middle;\n",
       "    }\n",
       "\n",
       "    .dataframe tbody tr th {\n",
       "        vertical-align: top;\n",
       "    }\n",
       "\n",
       "    .dataframe thead th {\n",
       "        text-align: right;\n",
       "    }\n",
       "</style>\n",
       "<table border=\"1\" class=\"dataframe\">\n",
       "  <thead>\n",
       "    <tr style=\"text-align: right;\">\n",
       "      <th></th>\n",
       "      <th>retention_1</th>\n",
       "    </tr>\n",
       "  </thead>\n",
       "  <tbody>\n",
       "    <tr>\n",
       "      <th>0</th>\n",
       "      <td>False</td>\n",
       "    </tr>\n",
       "    <tr>\n",
       "      <th>1</th>\n",
       "      <td>True</td>\n",
       "    </tr>\n",
       "    <tr>\n",
       "      <th>6</th>\n",
       "      <td>False</td>\n",
       "    </tr>\n",
       "    <tr>\n",
       "      <th>11</th>\n",
       "      <td>False</td>\n",
       "    </tr>\n",
       "    <tr>\n",
       "      <th>13</th>\n",
       "      <td>True</td>\n",
       "    </tr>\n",
       "    <tr>\n",
       "      <th>...</th>\n",
       "      <td>...</td>\n",
       "    </tr>\n",
       "    <tr>\n",
       "      <th>90179</th>\n",
       "      <td>True</td>\n",
       "    </tr>\n",
       "    <tr>\n",
       "      <th>90180</th>\n",
       "      <td>False</td>\n",
       "    </tr>\n",
       "    <tr>\n",
       "      <th>90182</th>\n",
       "      <td>True</td>\n",
       "    </tr>\n",
       "    <tr>\n",
       "      <th>90183</th>\n",
       "      <td>False</td>\n",
       "    </tr>\n",
       "    <tr>\n",
       "      <th>90186</th>\n",
       "      <td>True</td>\n",
       "    </tr>\n",
       "  </tbody>\n",
       "</table>\n",
       "<p>44699 rows × 1 columns</p>\n",
       "</div>"
      ],
      "text/plain": [
       "       retention_1\n",
       "0            False\n",
       "1             True\n",
       "6            False\n",
       "11           False\n",
       "13            True\n",
       "...            ...\n",
       "90179         True\n",
       "90180        False\n",
       "90182         True\n",
       "90183        False\n",
       "90186         True\n",
       "\n",
       "[44699 rows x 1 columns]"
      ]
     },
     "execution_count": 84,
     "metadata": {},
     "output_type": "execute_result"
    }
   ],
   "source": [
    "#test\n",
    "group_A_1"
   ]
  },
  {
   "cell_type": "code",
   "execution_count": 148,
   "metadata": {},
   "outputs": [
    {
     "data": {
      "text/plain": [
       "19.018322557551624"
      ]
     },
     "execution_count": 148,
     "metadata": {},
     "output_type": "execute_result"
    }
   ],
   "source": [
    "#test if the value make sense\n",
    "rr= np.count_nonzero(group_A_7[\"retention_7\"])/len(group_A_7[\"retention_7\"])*100\n",
    "rr"
   ]
  },
  {
   "cell_type": "code",
   "execution_count": 89,
   "metadata": {
    "scrolled": true
   },
   "outputs": [],
   "source": [
    "#Hint: Plot density function\n",
    "# scikit-learn bootstrap\n",
    "#bootstrap sampling of size 40000, 1000 times for 1 day retention\n",
    "from sklearn.utils import resample\n",
    "import random\n",
    "# prepare bootstrap sample\n",
    "boot_a_1 = []\n",
    "boot_b_1 = []\n",
    "# Bootstrap Sampling\n",
    "for i in range(1000):\n",
    "  a = random.sample(group_A_1['retention_1'].tolist(), 40000)\n",
    "  b = random.sample(group_B_1['retention_1'].tolist(), 40000)\n",
    "  rate_a = np.count_nonzero(a)/len(a)\n",
    "  rate_b = np.count_nonzero(b)/len(b)\n",
    "  boot_a_1.append(rate_a)\n",
    "  boot_b_1.append(rate_b)\n",
    "  \n",
    "\n",
    "#    boot = resample(group_A['sum_gamerounds'], replace=True, n_samples=45000, random_state=1)\n",
    "#    print('Bootstrap Sample: %s' % boot)\n",
    "    \n",
    "# out of bag observations\n",
    "#oob = [x for x in group_A['sum_gamerounds'] if x not in boot]\n",
    "#print('OOB Sample: %s' % oob)\n"
   ]
  },
  {
   "cell_type": "code",
   "execution_count": 91,
   "metadata": {},
   "outputs": [],
   "source": [
    "#Hint: Plot density function\n",
    "# scikit-learn bootstrap\n",
    "#bootstrap sampling of size 40000, 1000 times for 7 day retention\n",
    "from sklearn.utils import resample\n",
    "import random\n",
    "# prepare bootstrap sample\n",
    "boot_a_7 = []\n",
    "boot_b_7 = []\n",
    "# Bootstrap Sampling\n",
    "for i in range(1000):\n",
    "  a = random.sample(group_A_7['retention_7'].tolist(), 40000)\n",
    "  b = random.sample(group_B_7['retention_7'].tolist(), 40000)\n",
    "  rate_a = np.count_nonzero(a)/len(a)\n",
    "  rate_b = np.count_nonzero(b)/len(b)\n",
    "  boot_a_7.append(rate_a)\n",
    "  boot_b_7.append(rate_b)\n",
    "  \n",
    "\n",
    "#    boot = resample(group_A['sum_gamerounds'], replace=True, n_samples=45000, random_state=1)\n",
    "#    print('Bootstrap Sample: %s' % boot)\n",
    "    \n",
    "# out of bag observations\n",
    "#oob = [x for x in group_A['sum_gamerounds'] if x not in boot]\n",
    "#print('OOB Sample: %s' % oob)"
   ]
  },
  {
   "cell_type": "code",
   "execution_count": 92,
   "metadata": {},
   "outputs": [
    {
     "data": {
      "text/plain": [
       "[0.19085,\n",
       " 0.190675,\n",
       " 0.19145,\n",
       " 0.190475,\n",
       " 0.1893,\n",
       " 0.19015,\n",
       " 0.190475,\n",
       " 0.1893,\n",
       " 0.1906,\n",
       " 0.190325,\n",
       " 0.19065,\n",
       " 0.1902,\n",
       " 0.190375,\n",
       " 0.190625,\n",
       " 0.190575,\n",
       " 0.18985,\n",
       " 0.18955,\n",
       " 0.18895,\n",
       " 0.1895,\n",
       " 0.18975,\n",
       " 0.189675,\n",
       " 0.18925,\n",
       " 0.189875,\n",
       " 0.19,\n",
       " 0.19035,\n",
       " 0.1896,\n",
       " 0.1901,\n",
       " 0.189325,\n",
       " 0.190125,\n",
       " 0.18945,\n",
       " 0.1905,\n",
       " 0.191275,\n",
       " 0.19005,\n",
       " 0.19025,\n",
       " 0.190675,\n",
       " 0.190825,\n",
       " 0.189775,\n",
       " 0.191075,\n",
       " 0.1899,\n",
       " 0.18915,\n",
       " 0.190725,\n",
       " 0.18985,\n",
       " 0.188925,\n",
       " 0.19015,\n",
       " 0.1903,\n",
       " 0.191325,\n",
       " 0.189325,\n",
       " 0.1911,\n",
       " 0.190075,\n",
       " 0.191,\n",
       " 0.1907,\n",
       " 0.18905,\n",
       " 0.19005,\n",
       " 0.1887,\n",
       " 0.188975,\n",
       " 0.1904,\n",
       " 0.190875,\n",
       " 0.19025,\n",
       " 0.191175,\n",
       " 0.1898,\n",
       " 0.189575,\n",
       " 0.190675,\n",
       " 0.18925,\n",
       " 0.1915,\n",
       " 0.18985,\n",
       " 0.190075,\n",
       " 0.190325,\n",
       " 0.189725,\n",
       " 0.19005,\n",
       " 0.189475,\n",
       " 0.190125,\n",
       " 0.190075,\n",
       " 0.18955,\n",
       " 0.189975,\n",
       " 0.189575,\n",
       " 0.19095,\n",
       " 0.190275,\n",
       " 0.1905,\n",
       " 0.190375,\n",
       " 0.1902,\n",
       " 0.1887,\n",
       " 0.1897,\n",
       " 0.189725,\n",
       " 0.190725,\n",
       " 0.1892,\n",
       " 0.1902,\n",
       " 0.190275,\n",
       " 0.189275,\n",
       " 0.190175,\n",
       " 0.189825,\n",
       " 0.18975,\n",
       " 0.190625,\n",
       " 0.18895,\n",
       " 0.191075,\n",
       " 0.190575,\n",
       " 0.19075,\n",
       " 0.19035,\n",
       " 0.191175,\n",
       " 0.190625,\n",
       " 0.190575,\n",
       " 0.191375,\n",
       " 0.190675,\n",
       " 0.19085,\n",
       " 0.1897,\n",
       " 0.190175,\n",
       " 0.1891,\n",
       " 0.190775,\n",
       " 0.1912,\n",
       " 0.19055,\n",
       " 0.190575,\n",
       " 0.191425,\n",
       " 0.1908,\n",
       " 0.189975,\n",
       " 0.190375,\n",
       " 0.190925,\n",
       " 0.190325,\n",
       " 0.189575,\n",
       " 0.190025,\n",
       " 0.19055,\n",
       " 0.190625,\n",
       " 0.189975,\n",
       " 0.190675,\n",
       " 0.18985,\n",
       " 0.1905,\n",
       " 0.190175,\n",
       " 0.18955,\n",
       " 0.1893,\n",
       " 0.190775,\n",
       " 0.1911,\n",
       " 0.1896,\n",
       " 0.189425,\n",
       " 0.189725,\n",
       " 0.189825,\n",
       " 0.190025,\n",
       " 0.190875,\n",
       " 0.190525,\n",
       " 0.190675,\n",
       " 0.189425,\n",
       " 0.1908,\n",
       " 0.190225,\n",
       " 0.19015,\n",
       " 0.190025,\n",
       " 0.189075,\n",
       " 0.1902,\n",
       " 0.19035,\n",
       " 0.1903,\n",
       " 0.189575,\n",
       " 0.1892,\n",
       " 0.1896,\n",
       " 0.1912,\n",
       " 0.19115,\n",
       " 0.190025,\n",
       " 0.190875,\n",
       " 0.190825,\n",
       " 0.190375,\n",
       " 0.19045,\n",
       " 0.19125,\n",
       " 0.1897,\n",
       " 0.189525,\n",
       " 0.190575,\n",
       " 0.19035,\n",
       " 0.19035,\n",
       " 0.190625,\n",
       " 0.1901,\n",
       " 0.1903,\n",
       " 0.19005,\n",
       " 0.18935,\n",
       " 0.191375,\n",
       " 0.190875,\n",
       " 0.190025,\n",
       " 0.18975,\n",
       " 0.19105,\n",
       " 0.1906,\n",
       " 0.1903,\n",
       " 0.190575,\n",
       " 0.1899,\n",
       " 0.190975,\n",
       " 0.189925,\n",
       " 0.190525,\n",
       " 0.189675,\n",
       " 0.1904,\n",
       " 0.191475,\n",
       " 0.19,\n",
       " 0.189875,\n",
       " 0.190575,\n",
       " 0.1903,\n",
       " 0.18945,\n",
       " 0.190525,\n",
       " 0.1918,\n",
       " 0.189325,\n",
       " 0.1901,\n",
       " 0.18965,\n",
       " 0.190075,\n",
       " 0.1901,\n",
       " 0.1902,\n",
       " 0.190075,\n",
       " 0.189725,\n",
       " 0.189775,\n",
       " 0.189975,\n",
       " 0.189675,\n",
       " 0.19035,\n",
       " 0.19035,\n",
       " 0.189625,\n",
       " 0.19005,\n",
       " 0.19065,\n",
       " 0.190975,\n",
       " 0.19015,\n",
       " 0.190775,\n",
       " 0.190175,\n",
       " 0.189275,\n",
       " 0.19005,\n",
       " 0.18995,\n",
       " 0.1908,\n",
       " 0.190275,\n",
       " 0.18925,\n",
       " 0.18975,\n",
       " 0.18925,\n",
       " 0.19005,\n",
       " 0.18945,\n",
       " 0.188875,\n",
       " 0.19045,\n",
       " 0.19095,\n",
       " 0.19095,\n",
       " 0.1904,\n",
       " 0.190675,\n",
       " 0.18895,\n",
       " 0.1906,\n",
       " 0.1904,\n",
       " 0.19055,\n",
       " 0.19055,\n",
       " 0.1896,\n",
       " 0.190275,\n",
       " 0.18965,\n",
       " 0.189925,\n",
       " 0.191125,\n",
       " 0.189825,\n",
       " 0.189575,\n",
       " 0.18995,\n",
       " 0.1905,\n",
       " 0.1907,\n",
       " 0.190725,\n",
       " 0.1897,\n",
       " 0.19115,\n",
       " 0.19105,\n",
       " 0.190525,\n",
       " 0.189775,\n",
       " 0.189625,\n",
       " 0.18925,\n",
       " 0.1896,\n",
       " 0.189175,\n",
       " 0.19065,\n",
       " 0.189975,\n",
       " 0.18965,\n",
       " 0.18995,\n",
       " 0.190625,\n",
       " 0.190275,\n",
       " 0.190975,\n",
       " 0.18965,\n",
       " 0.188875,\n",
       " 0.189575,\n",
       " 0.189725,\n",
       " 0.19125,\n",
       " 0.190975,\n",
       " 0.190775,\n",
       " 0.1895,\n",
       " 0.19055,\n",
       " 0.189375,\n",
       " 0.190175,\n",
       " 0.19135,\n",
       " 0.1906,\n",
       " 0.19025,\n",
       " 0.19065,\n",
       " 0.189725,\n",
       " 0.190275,\n",
       " 0.19015,\n",
       " 0.18925,\n",
       " 0.189725,\n",
       " 0.190075,\n",
       " 0.1912,\n",
       " 0.190575,\n",
       " 0.18905,\n",
       " 0.19005,\n",
       " 0.1903,\n",
       " 0.191025,\n",
       " 0.190375,\n",
       " 0.190575,\n",
       " 0.1894,\n",
       " 0.1901,\n",
       " 0.1908,\n",
       " 0.1902,\n",
       " 0.189475,\n",
       " 0.18965,\n",
       " 0.189675,\n",
       " 0.1902,\n",
       " 0.18945,\n",
       " 0.190925,\n",
       " 0.1902,\n",
       " 0.190825,\n",
       " 0.189775,\n",
       " 0.189675,\n",
       " 0.19145,\n",
       " 0.19095,\n",
       " 0.190175,\n",
       " 0.19115,\n",
       " 0.18995,\n",
       " 0.19045,\n",
       " 0.189275,\n",
       " 0.19125,\n",
       " 0.189575,\n",
       " 0.19035,\n",
       " 0.190975,\n",
       " 0.190725,\n",
       " 0.190525,\n",
       " 0.1904,\n",
       " 0.190175,\n",
       " 0.1901,\n",
       " 0.188975,\n",
       " 0.189725,\n",
       " 0.18905,\n",
       " 0.19045,\n",
       " 0.1897,\n",
       " 0.190175,\n",
       " 0.190325,\n",
       " 0.18925,\n",
       " 0.19085,\n",
       " 0.1886,\n",
       " 0.18965,\n",
       " 0.189875,\n",
       " 0.1905,\n",
       " 0.190775,\n",
       " 0.188875,\n",
       " 0.190375,\n",
       " 0.18955,\n",
       " 0.189825,\n",
       " 0.190575,\n",
       " 0.18965,\n",
       " 0.19065,\n",
       " 0.189,\n",
       " 0.190425,\n",
       " 0.1896,\n",
       " 0.1896,\n",
       " 0.189225,\n",
       " 0.189175,\n",
       " 0.1904,\n",
       " 0.190425,\n",
       " 0.19075,\n",
       " 0.189675,\n",
       " 0.1908,\n",
       " 0.190275,\n",
       " 0.190225,\n",
       " 0.18985,\n",
       " 0.189775,\n",
       " 0.1894,\n",
       " 0.1906,\n",
       " 0.191225,\n",
       " 0.1905,\n",
       " 0.188525,\n",
       " 0.190875,\n",
       " 0.189775,\n",
       " 0.189875,\n",
       " 0.1894,\n",
       " 0.190925,\n",
       " 0.1901,\n",
       " 0.189075,\n",
       " 0.189575,\n",
       " 0.1904,\n",
       " 0.1908,\n",
       " 0.19085,\n",
       " 0.1887,\n",
       " 0.1903,\n",
       " 0.191125,\n",
       " 0.1899,\n",
       " 0.19015,\n",
       " 0.1909,\n",
       " 0.19095,\n",
       " 0.19,\n",
       " 0.190275,\n",
       " 0.189675,\n",
       " 0.190525,\n",
       " 0.190025,\n",
       " 0.19055,\n",
       " 0.1897,\n",
       " 0.19,\n",
       " 0.18965,\n",
       " 0.19125,\n",
       " 0.188625,\n",
       " 0.19065,\n",
       " 0.18925,\n",
       " 0.190475,\n",
       " 0.1907,\n",
       " 0.190275,\n",
       " 0.1901,\n",
       " 0.1901,\n",
       " 0.19115,\n",
       " 0.189475,\n",
       " 0.189775,\n",
       " 0.190425,\n",
       " 0.191,\n",
       " 0.19005,\n",
       " 0.1907,\n",
       " 0.190575,\n",
       " 0.18985,\n",
       " 0.19015,\n",
       " 0.1903,\n",
       " 0.19125,\n",
       " 0.1903,\n",
       " 0.191075,\n",
       " 0.18975,\n",
       " 0.19035,\n",
       " 0.190575,\n",
       " 0.189225,\n",
       " 0.190225,\n",
       " 0.1901,\n",
       " 0.189925,\n",
       " 0.18975,\n",
       " 0.189275,\n",
       " 0.19035,\n",
       " 0.18935,\n",
       " 0.19055,\n",
       " 0.190075,\n",
       " 0.1917,\n",
       " 0.18975,\n",
       " 0.191025,\n",
       " 0.1888,\n",
       " 0.19095,\n",
       " 0.19095,\n",
       " 0.19015,\n",
       " 0.189825,\n",
       " 0.1907,\n",
       " 0.1914,\n",
       " 0.190475,\n",
       " 0.189325,\n",
       " 0.19065,\n",
       " 0.19125,\n",
       " 0.191675,\n",
       " 0.190225,\n",
       " 0.189325,\n",
       " 0.19105,\n",
       " 0.189775,\n",
       " 0.188725,\n",
       " 0.19095,\n",
       " 0.191475,\n",
       " 0.189475,\n",
       " 0.18965,\n",
       " 0.189875,\n",
       " 0.1898,\n",
       " 0.1903,\n",
       " 0.190275,\n",
       " 0.19165,\n",
       " 0.1909,\n",
       " 0.1891,\n",
       " 0.189925,\n",
       " 0.1911,\n",
       " 0.190025,\n",
       " 0.1907,\n",
       " 0.1899,\n",
       " 0.1907,\n",
       " 0.18955,\n",
       " 0.19035,\n",
       " 0.18945,\n",
       " 0.190075,\n",
       " 0.1899,\n",
       " 0.191375,\n",
       " 0.189925,\n",
       " 0.19015,\n",
       " 0.190475,\n",
       " 0.189725,\n",
       " 0.18985,\n",
       " 0.189775,\n",
       " 0.18915,\n",
       " 0.19015,\n",
       " 0.19,\n",
       " 0.189925,\n",
       " 0.189275,\n",
       " 0.190975,\n",
       " 0.190625,\n",
       " 0.190175,\n",
       " 0.189825,\n",
       " 0.1913,\n",
       " 0.19075,\n",
       " 0.1891,\n",
       " 0.1896,\n",
       " 0.1903,\n",
       " 0.189525,\n",
       " 0.19045,\n",
       " 0.190925,\n",
       " 0.19005,\n",
       " 0.18965,\n",
       " 0.190525,\n",
       " 0.18985,\n",
       " 0.19115,\n",
       " 0.19055,\n",
       " 0.19015,\n",
       " 0.19055,\n",
       " 0.1896,\n",
       " 0.190975,\n",
       " 0.191175,\n",
       " 0.189175,\n",
       " 0.190275,\n",
       " 0.1899,\n",
       " 0.1908,\n",
       " 0.19145,\n",
       " 0.190325,\n",
       " 0.190825,\n",
       " 0.18945,\n",
       " 0.1921,\n",
       " 0.190725,\n",
       " 0.1892,\n",
       " 0.190075,\n",
       " 0.190325,\n",
       " 0.188325,\n",
       " 0.190625,\n",
       " 0.19195,\n",
       " 0.1907,\n",
       " 0.189575,\n",
       " 0.19055,\n",
       " 0.189275,\n",
       " 0.1902,\n",
       " 0.1908,\n",
       " 0.191025,\n",
       " 0.190175,\n",
       " 0.19045,\n",
       " 0.190525,\n",
       " 0.189,\n",
       " 0.19015,\n",
       " 0.189375,\n",
       " 0.190725,\n",
       " 0.19115,\n",
       " 0.18995,\n",
       " 0.1905,\n",
       " 0.190025,\n",
       " 0.19075,\n",
       " 0.1913,\n",
       " 0.19085,\n",
       " 0.189925,\n",
       " 0.1905,\n",
       " 0.19065,\n",
       " 0.190375,\n",
       " 0.18995,\n",
       " 0.1897,\n",
       " 0.189625,\n",
       " 0.189325,\n",
       " 0.18985,\n",
       " 0.1898,\n",
       " 0.19105,\n",
       " 0.19,\n",
       " 0.189675,\n",
       " 0.19035,\n",
       " 0.1902,\n",
       " 0.19025,\n",
       " 0.1895,\n",
       " 0.18935,\n",
       " 0.191,\n",
       " 0.19,\n",
       " 0.1907,\n",
       " 0.19,\n",
       " 0.190425,\n",
       " 0.190575,\n",
       " 0.1909,\n",
       " 0.19055,\n",
       " 0.18935,\n",
       " 0.19055,\n",
       " 0.19085,\n",
       " 0.189675,\n",
       " 0.189225,\n",
       " 0.189875,\n",
       " 0.18995,\n",
       " 0.19045,\n",
       " 0.189675,\n",
       " 0.18945,\n",
       " 0.189925,\n",
       " 0.189775,\n",
       " 0.18985,\n",
       " 0.191175,\n",
       " 0.19105,\n",
       " 0.1903,\n",
       " 0.1896,\n",
       " 0.19085,\n",
       " 0.189375,\n",
       " 0.19,\n",
       " 0.18975,\n",
       " 0.190775,\n",
       " 0.1905,\n",
       " 0.189575,\n",
       " 0.191,\n",
       " 0.19,\n",
       " 0.190575,\n",
       " 0.19105,\n",
       " 0.189425,\n",
       " 0.189325,\n",
       " 0.190475,\n",
       " 0.190175,\n",
       " 0.190825,\n",
       " 0.190025,\n",
       " 0.1909,\n",
       " 0.18945,\n",
       " 0.189475,\n",
       " 0.189275,\n",
       " 0.189625,\n",
       " 0.188875,\n",
       " 0.189875,\n",
       " 0.1904,\n",
       " 0.189875,\n",
       " 0.1902,\n",
       " 0.19165,\n",
       " 0.1891,\n",
       " 0.19085,\n",
       " 0.18995,\n",
       " 0.18945,\n",
       " 0.188675,\n",
       " 0.190575,\n",
       " 0.190325,\n",
       " 0.190275,\n",
       " 0.190425,\n",
       " 0.1914,\n",
       " 0.190325,\n",
       " 0.189925,\n",
       " 0.190575,\n",
       " 0.191475,\n",
       " 0.189825,\n",
       " 0.1902,\n",
       " 0.1907,\n",
       " 0.18955,\n",
       " 0.188825,\n",
       " 0.19065,\n",
       " 0.19085,\n",
       " 0.1899,\n",
       " 0.18985,\n",
       " 0.190175,\n",
       " 0.1896,\n",
       " 0.190375,\n",
       " 0.190125,\n",
       " 0.18905,\n",
       " 0.189375,\n",
       " 0.19035,\n",
       " 0.19045,\n",
       " 0.190875,\n",
       " 0.1915,\n",
       " 0.189775,\n",
       " 0.1901,\n",
       " 0.19035,\n",
       " 0.1903,\n",
       " 0.18965,\n",
       " 0.19035,\n",
       " 0.190075,\n",
       " 0.1905,\n",
       " 0.189425,\n",
       " 0.190975,\n",
       " 0.19005,\n",
       " 0.18955,\n",
       " 0.190525,\n",
       " 0.18995,\n",
       " 0.1904,\n",
       " 0.19075,\n",
       " 0.1902,\n",
       " 0.1904,\n",
       " 0.19065,\n",
       " 0.1897,\n",
       " 0.1906,\n",
       " 0.19005,\n",
       " 0.190125,\n",
       " 0.191575,\n",
       " 0.187975,\n",
       " 0.18985,\n",
       " 0.190625,\n",
       " 0.1902,\n",
       " 0.189825,\n",
       " 0.1907,\n",
       " 0.190425,\n",
       " 0.1893,\n",
       " 0.190025,\n",
       " 0.190575,\n",
       " 0.1892,\n",
       " 0.1891,\n",
       " 0.1906,\n",
       " 0.1898,\n",
       " 0.190325,\n",
       " 0.190075,\n",
       " 0.189575,\n",
       " 0.19065,\n",
       " 0.190375,\n",
       " 0.190075,\n",
       " 0.1912,\n",
       " 0.1902,\n",
       " 0.189925,\n",
       " 0.190175,\n",
       " 0.19015,\n",
       " 0.190525,\n",
       " 0.1886,\n",
       " 0.189925,\n",
       " 0.189425,\n",
       " 0.190125,\n",
       " 0.190875,\n",
       " 0.189875,\n",
       " 0.190325,\n",
       " 0.19055,\n",
       " 0.1901,\n",
       " 0.1909,\n",
       " 0.188875,\n",
       " 0.189175,\n",
       " 0.18995,\n",
       " 0.189875,\n",
       " 0.190275,\n",
       " 0.189675,\n",
       " 0.189625,\n",
       " 0.19025,\n",
       " 0.1895,\n",
       " 0.190275,\n",
       " 0.19135,\n",
       " 0.1892,\n",
       " 0.190425,\n",
       " 0.190125,\n",
       " 0.19025,\n",
       " 0.190225,\n",
       " 0.18995,\n",
       " 0.189325,\n",
       " 0.1899,\n",
       " 0.19005,\n",
       " 0.189175,\n",
       " 0.19025,\n",
       " 0.190375,\n",
       " 0.1898,\n",
       " 0.1899,\n",
       " 0.190075,\n",
       " 0.189275,\n",
       " 0.1903,\n",
       " 0.191425,\n",
       " 0.19055,\n",
       " 0.190125,\n",
       " 0.191025,\n",
       " 0.189375,\n",
       " 0.190925,\n",
       " 0.189975,\n",
       " 0.190125,\n",
       " 0.19095,\n",
       " 0.189725,\n",
       " 0.191375,\n",
       " 0.1902,\n",
       " 0.1903,\n",
       " 0.190125,\n",
       " 0.18875,\n",
       " 0.1899,\n",
       " 0.1901,\n",
       " 0.190975,\n",
       " 0.1908,\n",
       " 0.189575,\n",
       " 0.19,\n",
       " 0.189875,\n",
       " 0.19055,\n",
       " 0.19075,\n",
       " 0.1907,\n",
       " 0.189825,\n",
       " 0.1902,\n",
       " 0.190775,\n",
       " 0.1915,\n",
       " 0.18955,\n",
       " 0.18985,\n",
       " 0.19005,\n",
       " 0.1896,\n",
       " 0.18965,\n",
       " 0.190325,\n",
       " 0.19075,\n",
       " 0.189825,\n",
       " 0.189125,\n",
       " 0.18935,\n",
       " 0.190375,\n",
       " 0.1898,\n",
       " 0.189725,\n",
       " 0.1901,\n",
       " 0.190475,\n",
       " 0.189225,\n",
       " 0.190825,\n",
       " 0.19015,\n",
       " 0.189525,\n",
       " 0.19055,\n",
       " 0.190675,\n",
       " 0.1891,\n",
       " 0.189575,\n",
       " 0.19,\n",
       " 0.190325,\n",
       " 0.19,\n",
       " 0.1906,\n",
       " 0.190225,\n",
       " 0.189975,\n",
       " 0.19025,\n",
       " 0.189675,\n",
       " 0.1904,\n",
       " 0.189675,\n",
       " 0.190475,\n",
       " 0.18975,\n",
       " 0.190925,\n",
       " 0.189925,\n",
       " 0.190075,\n",
       " 0.19015,\n",
       " 0.18995,\n",
       " 0.190125,\n",
       " 0.190775,\n",
       " 0.190125,\n",
       " 0.19035,\n",
       " 0.19075,\n",
       " 0.18975,\n",
       " 0.190075,\n",
       " 0.189775,\n",
       " 0.1894,\n",
       " 0.19025,\n",
       " 0.190825,\n",
       " 0.18965,\n",
       " 0.190825,\n",
       " 0.189975,\n",
       " 0.191525,\n",
       " 0.1899,\n",
       " 0.1906,\n",
       " 0.190575,\n",
       " 0.18985,\n",
       " 0.18955,\n",
       " 0.190825,\n",
       " 0.190875,\n",
       " 0.191025,\n",
       " 0.19005,\n",
       " 0.190125,\n",
       " 0.189875,\n",
       " 0.18985,\n",
       " 0.19085,\n",
       " 0.189625,\n",
       " 0.190675,\n",
       " 0.189975,\n",
       " 0.1896,\n",
       " 0.189825,\n",
       " 0.189975,\n",
       " 0.18965,\n",
       " 0.190075,\n",
       " 0.189925,\n",
       " 0.19235,\n",
       " 0.19135,\n",
       " 0.18965,\n",
       " 0.190825,\n",
       " 0.1907,\n",
       " 0.190075,\n",
       " 0.189225,\n",
       " 0.190125,\n",
       " 0.19035,\n",
       " 0.190025,\n",
       " 0.191025,\n",
       " 0.189625,\n",
       " 0.189875,\n",
       " 0.1902,\n",
       " 0.18985,\n",
       " 0.190375,\n",
       " 0.189675,\n",
       " 0.190375,\n",
       " 0.188625,\n",
       " 0.189375,\n",
       " 0.191375,\n",
       " 0.1892,\n",
       " 0.1906,\n",
       " 0.190875,\n",
       " 0.189825,\n",
       " 0.1897,\n",
       " 0.19085,\n",
       " 0.190175,\n",
       " 0.1895,\n",
       " 0.191075,\n",
       " 0.190775,\n",
       " 0.190525,\n",
       " 0.190625,\n",
       " 0.190075,\n",
       " 0.188975,\n",
       " 0.1902,\n",
       " 0.19035,\n",
       " 0.1895,\n",
       " 0.189675,\n",
       " 0.1912,\n",
       " 0.1894,\n",
       " 0.190125,\n",
       " 0.18985,\n",
       " 0.189875,\n",
       " 0.189175,\n",
       " 0.18975,\n",
       " 0.18995,\n",
       " 0.190475,\n",
       " 0.1901,\n",
       " 0.189325,\n",
       " 0.19075,\n",
       " 0.1901,\n",
       " 0.189025,\n",
       " 0.190025,\n",
       " 0.1904,\n",
       " 0.189875,\n",
       " 0.19055,\n",
       " 0.1897,\n",
       " 0.18975,\n",
       " 0.191025,\n",
       " 0.190975,\n",
       " 0.190075,\n",
       " 0.19015,\n",
       " 0.1897,\n",
       " 0.190975,\n",
       " 0.1897,\n",
       " 0.189175,\n",
       " 0.18895,\n",
       " 0.1898,\n",
       " 0.190775,\n",
       " 0.188825,\n",
       " 0.190125,\n",
       " 0.1899,\n",
       " 0.1904,\n",
       " 0.188925,\n",
       " 0.19,\n",
       " 0.190925,\n",
       " 0.191725,\n",
       " 0.189575,\n",
       " 0.1899,\n",
       " 0.190525,\n",
       " 0.19025,\n",
       " 0.19065,\n",
       " 0.18935,\n",
       " 0.18995,\n",
       " 0.1897,\n",
       " 0.1905,\n",
       " 0.190925,\n",
       " 0.1904,\n",
       " 0.189825,\n",
       " 0.1916,\n",
       " 0.18915,\n",
       " 0.189375,\n",
       " 0.18965,\n",
       " 0.19025,\n",
       " 0.189475,\n",
       " 0.19,\n",
       " 0.189925,\n",
       " 0.1899,\n",
       " 0.1909,\n",
       " 0.190075,\n",
       " 0.19005,\n",
       " 0.189925,\n",
       " 0.190425,\n",
       " 0.190075,\n",
       " 0.189475,\n",
       " 0.1893,\n",
       " 0.19075,\n",
       " 0.1896,\n",
       " 0.191625,\n",
       " 0.190725,\n",
       " 0.190825,\n",
       " 0.189275,\n",
       " 0.189875,\n",
       " 0.189625,\n",
       " 0.190875,\n",
       " 0.1896,\n",
       " 0.18925,\n",
       " 0.18995,\n",
       " 0.1906,\n",
       " 0.189325,\n",
       " 0.1901,\n",
       " 0.190225,\n",
       " 0.19115,\n",
       " 0.190625,\n",
       " 0.18985,\n",
       " 0.19015,\n",
       " 0.19095,\n",
       " 0.18875,\n",
       " 0.190725,\n",
       " 0.19095,\n",
       " 0.190725,\n",
       " 0.188975,\n",
       " 0.189975,\n",
       " 0.1894,\n",
       " 0.18975,\n",
       " 0.19125,\n",
       " 0.19065,\n",
       " 0.18995,\n",
       " 0.19005,\n",
       " 0.18945,\n",
       " 0.19045,\n",
       " 0.1889,\n",
       " 0.189825,\n",
       " 0.190525,\n",
       " 0.1899,\n",
       " 0.1906,\n",
       " 0.18945,\n",
       " 0.1905,\n",
       " 0.190225,\n",
       " 0.190675,\n",
       " 0.191075,\n",
       " 0.1896,\n",
       " 0.190725,\n",
       " 0.190775,\n",
       " 0.190625,\n",
       " 0.189975,\n",
       " 0.18845,\n",
       " 0.18975,\n",
       " 0.190175,\n",
       " 0.191525,\n",
       " 0.188775,\n",
       " 0.19015,\n",
       " 0.19095,\n",
       " 0.190125,\n",
       " 0.19105,\n",
       " 0.190425,\n",
       " 0.19035]"
      ]
     },
     "execution_count": 92,
     "metadata": {},
     "output_type": "execute_result"
    }
   ],
   "source": [
    "#test\n",
    "boot_a_7"
   ]
  },
  {
   "cell_type": "code",
   "execution_count": 146,
   "metadata": {},
   "outputs": [],
   "source": [
    "#converting list to panda dataframe\n",
    "boot_a_1=pd.DataFrame(boot_a_1)\n",
    "boot_a_7=pd.DataFrame(boot_a_7)\n",
    "boot_b_1=pd.DataFrame(boot_b_1)\n",
    "boot_b_7=pd.DataFrame(boot_b_7)\n",
    "\n",
    "boot_a_1.columns=[\"gate_30\"]\n",
    "boot_a_7.columns=[\"gate_40\"]\n",
    "boot_b_1.columns=[\"gate_30\"]\n",
    "boot_b_7.columns=[\"gate_40\"]"
   ]
  },
  {
   "cell_type": "code",
   "execution_count": 145,
   "metadata": {},
   "outputs": [
    {
     "data": {
      "text/html": [
       "<div>\n",
       "<style scoped>\n",
       "    .dataframe tbody tr th:only-of-type {\n",
       "        vertical-align: middle;\n",
       "    }\n",
       "\n",
       "    .dataframe tbody tr th {\n",
       "        vertical-align: top;\n",
       "    }\n",
       "\n",
       "    .dataframe thead th {\n",
       "        text-align: right;\n",
       "    }\n",
       "</style>\n",
       "<table border=\"1\" class=\"dataframe\">\n",
       "  <thead>\n",
       "    <tr style=\"text-align: right;\">\n",
       "      <th></th>\n",
       "      <th>gate_30</th>\n",
       "    </tr>\n",
       "  </thead>\n",
       "  <tbody>\n",
       "    <tr>\n",
       "      <th>0</th>\n",
       "      <td>0.448100</td>\n",
       "    </tr>\n",
       "    <tr>\n",
       "      <th>1</th>\n",
       "      <td>0.449450</td>\n",
       "    </tr>\n",
       "    <tr>\n",
       "      <th>2</th>\n",
       "      <td>0.447625</td>\n",
       "    </tr>\n",
       "    <tr>\n",
       "      <th>3</th>\n",
       "      <td>0.447950</td>\n",
       "    </tr>\n",
       "    <tr>\n",
       "      <th>4</th>\n",
       "      <td>0.447950</td>\n",
       "    </tr>\n",
       "    <tr>\n",
       "      <th>...</th>\n",
       "      <td>...</td>\n",
       "    </tr>\n",
       "    <tr>\n",
       "      <th>995</th>\n",
       "      <td>0.448075</td>\n",
       "    </tr>\n",
       "    <tr>\n",
       "      <th>996</th>\n",
       "      <td>0.448550</td>\n",
       "    </tr>\n",
       "    <tr>\n",
       "      <th>997</th>\n",
       "      <td>0.447825</td>\n",
       "    </tr>\n",
       "    <tr>\n",
       "      <th>998</th>\n",
       "      <td>0.448000</td>\n",
       "    </tr>\n",
       "    <tr>\n",
       "      <th>999</th>\n",
       "      <td>0.447175</td>\n",
       "    </tr>\n",
       "  </tbody>\n",
       "</table>\n",
       "<p>1000 rows × 1 columns</p>\n",
       "</div>"
      ],
      "text/plain": [
       "      gate_30\n",
       "0    0.448100\n",
       "1    0.449450\n",
       "2    0.447625\n",
       "3    0.447950\n",
       "4    0.447950\n",
       "..        ...\n",
       "995  0.448075\n",
       "996  0.448550\n",
       "997  0.447825\n",
       "998  0.448000\n",
       "999  0.447175\n",
       "\n",
       "[1000 rows x 1 columns]"
      ]
     },
     "execution_count": 145,
     "metadata": {},
     "output_type": "execute_result"
    }
   ],
   "source": [
    "#test\n",
    "boot_a_1"
   ]
  },
  {
   "cell_type": "code",
   "execution_count": 147,
   "metadata": {},
   "outputs": [
    {
     "data": {
      "text/plain": [
       "<AxesSubplot:ylabel='Density'>"
      ]
     },
     "execution_count": 147,
     "metadata": {},
     "output_type": "execute_result"
    },
    {
     "data": {
      "text/plain": [
       "Text(0.5, 0, 'retention rate')"
      ]
     },
     "execution_count": 147,
     "metadata": {},
     "output_type": "execute_result"
    },
    {
     "data": {
      "text/plain": [
       "Text(0, 0.5, 'number of sample')"
      ]
     },
     "execution_count": 147,
     "metadata": {},
     "output_type": "execute_result"
    },
    {
     "data": {
      "text/plain": [
       "Text(0.5, 1.0, '1 day retention rate distribution')"
      ]
     },
     "execution_count": 147,
     "metadata": {},
     "output_type": "execute_result"
    },
    {
     "data": {
      "text/plain": [
       "<matplotlib.legend.Legend at 0x20dd98a5340>"
      ]
     },
     "execution_count": 147,
     "metadata": {},
     "output_type": "execute_result"
    },
    {
     "data": {
      "text/plain": [
       "<AxesSubplot:ylabel='Density'>"
      ]
     },
     "execution_count": 147,
     "metadata": {},
     "output_type": "execute_result"
    },
    {
     "data": {
      "text/plain": [
       "Text(0.5, 0, 'retention rate')"
      ]
     },
     "execution_count": 147,
     "metadata": {},
     "output_type": "execute_result"
    },
    {
     "data": {
      "text/plain": [
       "Text(0.5, 1.0, '7 days retention rate distribution')"
      ]
     },
     "execution_count": 147,
     "metadata": {},
     "output_type": "execute_result"
    },
    {
     "data": {
      "text/plain": [
       "<matplotlib.legend.Legend at 0x20dd9e34a00>"
      ]
     },
     "execution_count": 147,
     "metadata": {},
     "output_type": "execute_result"
    },
    {
     "data": {
      "image/png": "[encoded data removed]",
      "text/plain": [
       "<Figure size 720x360 with 2 Axes>"
      ]
     },
     "metadata": {
      "needs_background": "light"
     },
     "output_type": "display_data"
    }
   ],
   "source": [
    "# Kernel Density Estimate plot of the bootstrap distributions\n",
    "fig, (ax1,ax2) = plt.subplots(1, 2,sharey=True,figsize = (10,5))\n",
    "\n",
    "boot_a_1.plot.kde(ax=ax1)\n",
    "ax1.set_xlabel(\"retention rate\",size=12)\n",
    "ax1.set_ylabel(\"number of sample\",size=12)\n",
    "ax1.set_title(\"1 day retention rate distribution\", fontweight=\"bold\")\n",
    "\n",
    "boot_b_1.plot.kde(ax=ax1).legend(['gate_30','gate_40'])\n",
    "\n",
    "\n",
    "boot_a_7.plot.kde(ax=ax2)\n",
    "ax2.set_xlabel(\"retention rate\",size=12)\n",
    "ax2.set_title(\"7 days retention rate distribution\", fontweight=\"bold\")\n",
    "\n",
    "boot_b_7.plot.kde(ax=ax2).legend(['gate_30','gate_40'])\n",
    "\n",
    "plt.show()\n"
   ]
  },
  {
   "cell_type": "markdown",
   "metadata": {},
   "source": [
    "__Analysis:__ Using bootstrap resampling, the effect of outliers are minimised and it is now clearly shown that gate_30 group has higher retention rate than gate_40 group at both 1 day and 7 day which agrees with the one-tailed significance testing results."
   ]
  }
 ],
 "metadata": {
  "kernelspec": {
   "display_name": "Python 3",
   "language": "python",
   "name": "python3"
  },
  "language_info": {
   "codemirror_mode": {
    "name": "ipython",
    "version": 3
   },
   "file_extension": ".py",
   "mimetype": "text/x-python",
   "name": "python",
   "nbconvert_exporter": "python",
   "pygments_lexer": "ipython3",
   "version": "3.8.10"
  }
 },
 "nbformat": 4,
 "nbformat_minor": 4
}
